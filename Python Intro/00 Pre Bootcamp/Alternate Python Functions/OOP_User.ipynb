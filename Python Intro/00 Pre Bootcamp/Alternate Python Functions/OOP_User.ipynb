{
  "nbformat": 4,
  "nbformat_minor": 0,
  "metadata": {
    "colab": {
      "name": "Untitled3.ipynb",
      "provenance": [],
      "authorship_tag": "ABX9TyPfp/MKH1ZnsmYKh/QVAIW1",
      "include_colab_link": true
    },
    "kernelspec": {
      "name": "python3",
      "display_name": "Python 3"
    },
    "language_info": {
      "name": "python"
    }
  },
  "cells": [
    {
      "cell_type": "markdown",
      "metadata": {
        "id": "view-in-github",
        "colab_type": "text"
      },
      "source": [
        "<a href=\"https://colab.research.google.com/github/cledgeja/coding_dojo/blob/main/Python%20Intro/00%20Pre%20Bootcamp/Alternate%20Python%20Functions/OOP_User.ipynb\" target=\"_parent\"><img src=\"https://colab.research.google.com/assets/colab-badge.svg\" alt=\"Open In Colab\"/></a>"
      ]
    },
    {
      "cell_type": "code",
      "execution_count": 185,
      "metadata": {
        "id": "8jHWM1FhPCJ2"
      },
      "outputs": [],
      "source": [
        "# user class with the attributes name and account_balance(default=0)\n",
        "# function to make withdrawls.\n",
        "# variable amount increase or decrease account_balance\n",
        "#function to display user info as 'User:\"name\",Balance:$amount'\n",
        "\n",
        "class User:\n",
        "  def __init__(self,name):\n",
        "    self.name = name\n",
        "    self.account_balance = 0\n",
        "  def account_withdrawal(self,amount):\n",
        "    self.account_balance = self.account_balance - abs(amount)\n",
        "  def dispaly_user_balance(self):\n",
        "    print(f'\"User: {self.name}, Balance:${float(self.account_balance)}\"')\n",
        "  def transfer_money(self,other_user,amount):\n",
        "    self.account_balance = self.account_balance - abs(amount)\n",
        "    other_user.account_balance = other_user.account_balance + abs(amount)\n"
      ]
    },
    {
      "cell_type": "code",
      "source": [
        "#create 2 users\n",
        "user1 = User(\"user1\")\n",
        "user2 = User(\"user2\")"
      ],
      "metadata": {
        "id": "E8q2nvGR1ho2"
      },
      "execution_count": 186,
      "outputs": []
    },
    {
      "cell_type": "code",
      "source": [
        "#1. decrease the users account by amount specified\n",
        "user1.account_withdrawal(10)"
      ],
      "metadata": {
        "id": "MHUYOsTP2f2o"
      },
      "execution_count": 187,
      "outputs": []
    },
    {
      "cell_type": "code",
      "source": [
        "#2 display user balance by calling the appropiate User Class function\n",
        "user1.dispaly_user_balance()"
      ],
      "metadata": {
        "colab": {
          "base_uri": "https://localhost:8080/"
        },
        "id": "lViqiHFjG6Bh",
        "outputId": "4ecf2463-6022-45dc-c757-fcca03ac671b"
      },
      "execution_count": 188,
      "outputs": [
        {
          "output_type": "stream",
          "name": "stdout",
          "text": [
            "\"User: user1, Balance:$-10.0\"\n"
          ]
        }
      ]
    },
    {
      "cell_type": "code",
      "source": [
        "#3 bonus: transfer money to another users account\n",
        "user1.transfer_money(user2,100)"
      ],
      "metadata": {
        "id": "i6BZ3XqSJ7fj"
      },
      "execution_count": 189,
      "outputs": []
    },
    {
      "cell_type": "code",
      "source": [
        "user2.dispaly_user_balance()\n",
        "user1.dispaly_user_balance()"
      ],
      "metadata": {
        "colab": {
          "base_uri": "https://localhost:8080/"
        },
        "id": "PxH2LnwEKJrp",
        "outputId": "61715362-e8c1-45c4-dc0e-8c03acbdf6c1"
      },
      "execution_count": 190,
      "outputs": [
        {
          "output_type": "stream",
          "name": "stdout",
          "text": [
            "\"User: user2, Balance:$100.0\"\n",
            "\"User: user1, Balance:$-110.0\"\n"
          ]
        }
      ]
    }
  ]
}
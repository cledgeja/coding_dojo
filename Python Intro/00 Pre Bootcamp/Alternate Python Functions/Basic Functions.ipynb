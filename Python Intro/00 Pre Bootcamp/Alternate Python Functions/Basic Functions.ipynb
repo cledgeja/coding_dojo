{
  "nbformat": 4,
  "nbformat_minor": 0,
  "metadata": {
    "colab": {
      "name": "Untitled2.ipynb",
      "provenance": [],
      "authorship_tag": "ABX9TyOAqEJlCGK13yCUkD2Il6TS"
    },
    "kernelspec": {
      "name": "python3",
      "display_name": "Python 3"
    },
    "language_info": {
      "name": "python"
    }
  },
  "cells": [
    {
      "cell_type": "code",
      "execution_count": null,
      "metadata": {
        "id": "yp-4P7Jv9BsB"
      },
      "outputs": [],
      "source": [
        "#1. Create function that will take an input # and return \n",
        "# countdown as a list\n",
        "countlist = []\n",
        "def countdown(countfrom=2):\n",
        "  for x in range(countfrom,-1,-1):\n",
        "    countlist.append(x)\n",
        "  return(countlist)\n",
        "countdown(5)"
      ]
    },
    {
      "cell_type": "code",
      "source": [
        "#2. Print first number in a list and return the second\n",
        "def print_and_return(list):\n",
        "  print(list[0])\n",
        "  return(list[1])\n",
        "print_and_return([1,2])"
      ],
      "metadata": {
        "id": "RUFIYAJ6FhA9"
      },
      "execution_count": null,
      "outputs": []
    },
    {
      "cell_type": "code",
      "source": [
        "#3. First plus length. \n",
        "def computelist(list):\n",
        "  return(list[0]+len(list))\n",
        "computelist([1,2,3,4,5])"
      ],
      "metadata": {
        "id": "jwLIW1JXLh1k"
      },
      "execution_count": null,
      "outputs": []
    },
    {
      "cell_type": "code",
      "source": [
        "#4. length and value\n",
        "list = []\n",
        "def length_and_value(length,value):\n",
        "  for x in range(0,length):\n",
        "    list.append(value)\n",
        "  return(list)\n",
        "length_and_value(4,7)"
      ],
      "metadata": {
        "id": "XtemHJItOg07"
      },
      "execution_count": null,
      "outputs": []
    },
    {
      "cell_type": "code",
      "source": [
        "#5 Values Greater than Second\n",
        "list = [5,2,3,2,1,4]\n",
        "new_list = []\n",
        "def values_greater_than_second():\n",
        "  if len(list) > 1:\n",
        "    second_value = list[1]\n",
        "    for x in range (0,len(list)):\n",
        "      if list[x] > list[1]:\n",
        "        new_list.append(list[x])\n",
        "    return(new_list)\n",
        "  else:\n",
        "    return(len(list) > 1)\n",
        "values_greater_than_second()"
      ],
      "metadata": {
        "colab": {
          "base_uri": "https://localhost:8080/"
        },
        "id": "lPbkvtlnQEsg",
        "outputId": "8c89022f-c387-4eb5-8d56-c13a92d410c1"
      },
      "execution_count": 18,
      "outputs": [
        {
          "output_type": "execute_result",
          "data": {
            "text/plain": [
              "[5, 3, 4]"
            ]
          },
          "metadata": {},
          "execution_count": 18
        }
      ]
    }
  ]
}
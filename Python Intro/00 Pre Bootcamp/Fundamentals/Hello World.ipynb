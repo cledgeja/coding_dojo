{
  "nbformat": 4,
  "nbformat_minor": 0,
  "metadata": {
    "colab": {
      "name": "Untitled0.ipynb",
      "provenance": [],
      "authorship_tag": "ABX9TyN4MnCXnYFMXOzsaLKbWdJ0",
      "include_colab_link": true
    },
    "kernelspec": {
      "name": "python3",
      "display_name": "Python 3"
    },
    "language_info": {
      "name": "python"
    }
  },
  "cells": [
    {
      "cell_type": "markdown",
      "metadata": {
        "id": "view-in-github",
        "colab_type": "text"
      },
      "source": [
        "<a href=\"https://colab.research.google.com/github/cledgeja/coding_dojo/blob/main/Python%20Intro/00%20Pre%20Bootcamp/Fundamentals/Hello%20World.ipynb\" target=\"_parent\"><img src=\"https://colab.research.google.com/assets/colab-badge.svg\" alt=\"Open In Colab\"/></a>"
      ]
    },
    {
      "cell_type": "code",
      "execution_count": 1,
      "metadata": {
        "id": "4-mth9BOEdSp",
        "colab": {
          "base_uri": "https://localhost:8080/"
        },
        "outputId": "5e383961-eb27-41ea-c3f3-8a1a96ff3ae3"
      },
      "outputs": [
        {
          "output_type": "stream",
          "name": "stdout",
          "text": [
            "Hello World\n"
          ]
        }
      ],
      "source": [
        "# 1. TASK: print \"Hello World\"\n",
        "print(\"Hello World\")"
      ]
    },
    {
      "cell_type": "code",
      "source": [
        "# 2. print \"Hello Noelle!\" with the mane in a variable\n",
        "name = \"Noelle\"\n",
        "print(name)"
      ],
      "metadata": {
        "colab": {
          "base_uri": "https://localhost:8080/"
        },
        "id": "AsRo-vW2GiD9",
        "outputId": "0ba747b1-5d47-433f-ed33-7f9896b580db"
      },
      "execution_count": 2,
      "outputs": [
        {
          "output_type": "stream",
          "name": "stdout",
          "text": [
            "Noelle\n"
          ]
        }
      ]
    },
    {
      "cell_type": "code",
      "source": [
        "# 3. print \"Hello 42!\" with the number in a variable\n",
        "name = 42\n",
        "print ('Hello ',name,'!',sep = '') #with a comma"
      ],
      "metadata": {
        "colab": {
          "base_uri": "https://localhost:8080/"
        },
        "id": "Wi_vKG2SGwEN",
        "outputId": "60b70cd9-2864-497c-c23f-785c5a41b4da"
      },
      "execution_count": 20,
      "outputs": [
        {
          "output_type": "stream",
          "name": "stdout",
          "text": [
            "Hello 42!\n"
          ]
        }
      ]
    },
    {
      "cell_type": "code",
      "source": [
        "# 4. print \"I love to eat sushi and pizza.\" with the foods in variables\n",
        "fave_food1 = \"sushi\"\n",
        "fave_food2 = \"pizza\"\n",
        "print ('I love to eat {} and {}.'.format(fave_food1,fave_food2)) #with .format()\n",
        "print(f'I love to eat {fave_food1} and {fave_food2}.')# with an f string"
      ],
      "metadata": {
        "colab": {
          "base_uri": "https://localhost:8080/"
        },
        "id": "0Khb_zQgI11i",
        "outputId": "ecd633f5-e48b-46b3-82cf-312c5b71c84c"
      },
      "execution_count": 23,
      "outputs": [
        {
          "output_type": "stream",
          "name": "stdout",
          "text": [
            "I love to eat sushi and pizza.\n",
            "I love to eat sushi and pizza.\n"
          ]
        }
      ]
    }
  ]
}
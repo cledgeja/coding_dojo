{
  "nbformat": 4,
  "nbformat_minor": 0,
  "metadata": {
    "colab": {
      "name": "Untitled1.ipynb",
      "provenance": [],
      "authorship_tag": "ABX9TyOKdCsKJmEtOpOt0tMoAgQA",
      "include_colab_link": true
    },
    "kernelspec": {
      "name": "python3",
      "display_name": "Python 3"
    },
    "language_info": {
      "name": "python"
    }
  },
  "cells": [
    {
      "cell_type": "markdown",
      "metadata": {
        "id": "view-in-github",
        "colab_type": "text"
      },
      "source": [
        "<a href=\"https://colab.research.google.com/github/cledgeja/coding_dojo/blob/main/Basic_For_Loops.ipynb\" target=\"_parent\"><img src=\"https://colab.research.google.com/assets/colab-badge.svg\" alt=\"Open In Colab\"/></a>"
      ]
    },
    {
      "cell_type": "code",
      "execution_count": null,
      "metadata": {
        "id": "azCkRcq6na04"
      },
      "outputs": [],
      "source": [
        "#1. Basic - Print intergers from 0 to 150\n",
        "for x in range(0,151):\n",
        "  print(x)"
      ]
    },
    {
      "cell_type": "code",
      "source": [
        "#2. Multiples of 5 from 5 to 1000\n",
        "for x in range(5,1001,5):\n",
        "  print(x)"
      ],
      "metadata": {
        "id": "Js4X13z4pLtz"
      },
      "execution_count": null,
      "outputs": []
    },
    {
      "cell_type": "code",
      "source": [
        "#3. print intergers 1 to 100. \n",
        "#if divisible by 5 print \"Coding\"\n",
        "#If divisible by 10, print \"Coding Dojo\"\n",
        "for x in range(1,101):\n",
        "  if x % 10 == 0:\n",
        "    print(\"Coding Dojo\")\n",
        "  elif x % 5 == 0:\n",
        "    print(\"Coding\")\n",
        "  "
      ],
      "metadata": {
        "id": "ifm9SYFqqEnT"
      },
      "execution_count": null,
      "outputs": []
    },
    {
      "cell_type": "code",
      "source": [
        "#4. Add odd intergers from 0 to 500,000. print final sum\n",
        "sum = 0\n",
        "for x in range(0,500000):\n",
        "  if x % 2 == 0:\n",
        "    pass\n",
        "  else:\n",
        "    sum = sum + x\n",
        "print(sum)"
      ],
      "metadata": {
        "id": "-uhG2z0jwqh2"
      },
      "execution_count": null,
      "outputs": []
    },
    {
      "cell_type": "code",
      "source": [
        "#5. Print Postive numbers starting at 2018, counting down by fours\n",
        "for x in range(2018,0,-4):\n",
        "  print(x)\n"
      ],
      "metadata": {
        "id": "hfpRdD-i2WpT"
      },
      "execution_count": null,
      "outputs": []
    },
    {
      "cell_type": "code",
      "source": [
        "#6 Start at variables lownum to highnum.\n",
        "#print only intergers that are a multiple of variable mult\n",
        "lownum=2\n",
        "highnum=9\n",
        "mult = 3\n",
        "for x in range(lownum,highnum+1):\n",
        "  if x % mult == 0:\n",
        "    print(x)"
      ],
      "metadata": {
        "id": "g6bdXnns334G"
      },
      "execution_count": null,
      "outputs": []
    }
  ]
}
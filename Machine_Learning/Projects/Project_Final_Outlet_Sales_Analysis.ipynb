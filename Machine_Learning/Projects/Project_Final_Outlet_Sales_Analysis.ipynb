{
  "nbformat": 4,
  "nbformat_minor": 0,
  "metadata": {
    "colab": {
      "name": "Project 5 Outlet Sales Analysis.ipynb",
      "provenance": [],
      "collapsed_sections": [
        "DlhJg3fduHlX",
        "hQC5JZNGuK8S",
        "oJ2vTQSruqUV",
        "mNPMtIK_2VtT",
        "KQL5n4kA2hBE",
        "uhM2t1km9yPJ",
        "kcgyZIkWsV_-",
        "oGOGbAKloPDP",
        "LHkRGisznmuQ",
        "2jzmxHXckbbw",
        "kTu-tgB3lgNw",
        "rR8v29gSn_Do",
        "Ck-tIftfkfcq",
        "XTWw_QTRlHC7",
        "IdBCSJP0lrYK",
        "LDDNSjpkl-x3"
      ],
      "authorship_tag": "ABX9TyPlg2ncQDpD9kO16ZxptdX/",
      "include_colab_link": true
    },
    "kernelspec": {
      "name": "python3",
      "display_name": "Python 3"
    },
    "language_info": {
      "name": "python"
    }
  },
  "cells": [
    {
      "cell_type": "markdown",
      "metadata": {
        "id": "view-in-github",
        "colab_type": "text"
      },
      "source": [
        "<a href=\"https://colab.research.google.com/github/cledgeja/coding_dojo/blob/main/Machine_Learning/Projects/Project_Final_Outlet_Sales_Analysis.ipynb\" target=\"_parent\"><img src=\"https://colab.research.google.com/assets/colab-badge.svg\" alt=\"Open In Colab\"/></a>"
      ]
    },
    {
      "cell_type": "code",
      "execution_count": 99,
      "metadata": {
        "id": "ORRTOH4Xqtwb"
      },
      "outputs": [],
      "source": [
        "import matplotlib.pyplot as plt\n",
        "import seaborn as sns\n",
        "import numpy as np\n",
        "import pandas as pd\n",
        "import datetime as dt\n",
        "from sklearn.model_selection import train_test_split\n",
        "from sklearn.compose import make_column_selector, make_column_transformer\n",
        "from sklearn.preprocessing import StandardScaler, MinMaxScaler, OneHotEncoder,OrdinalEncoder\n",
        "from sklearn.pipeline import make_pipeline\n",
        "from sklearn.impute import SimpleImputer\n",
        "from sklearn import set_config\n",
        "set_config(display='diagram')\n",
        "from sklearn.linear_model import LinearRegression\n",
        "from sklearn.metrics import r2_score, mean_squared_error,mean_absolute_error\n",
        "from sklearn.tree import DecisionTreeRegressor\n"
      ]
    },
    {
      "cell_type": "code",
      "source": [
        "url = 'https://github.com/cledgeja/coding_dojo/blob/612c3b5098afcddd95c76a723ff8a6f5a5e92f5b/Python%20Intro/01%20Week%201%20Python/sales_predictions.csv?raw=true'\n",
        "df_sales = pd.read_csv(url)\n",
        "df_ml = df_sales.drop(columns=['Item_Identifier','Outlet_Identifier','Outlet_Establishment_Year']).copy()"
      ],
      "metadata": {
        "id": "MmVTNemHrVMU"
      },
      "execution_count": 100,
      "outputs": []
    },
    {
      "cell_type": "markdown",
      "source": [
        "###1) How many rows and columns?"
      ],
      "metadata": {
        "id": "DlhJg3fduHlX"
      }
    },
    {
      "cell_type": "code",
      "source": [
        "print(f'{df_sales.shape[0]} rows with {df_sales.shape[1]} columns')"
      ],
      "metadata": {
        "colab": {
          "base_uri": "https://localhost:8080/"
        },
        "id": "ndX669uWrl0S",
        "outputId": "13b28cce-4301-47dd-83b9-3cebf1283661"
      },
      "execution_count": 101,
      "outputs": [
        {
          "output_type": "stream",
          "name": "stdout",
          "text": [
            "8523 rows with 12 columns\n"
          ]
        }
      ]
    },
    {
      "cell_type": "markdown",
      "source": [
        "###2) What are the datatypes of each variable?"
      ],
      "metadata": {
        "id": "hQC5JZNGuK8S"
      }
    },
    {
      "cell_type": "code",
      "source": [
        "df_sales.info()"
      ],
      "metadata": {
        "colab": {
          "base_uri": "https://localhost:8080/"
        },
        "id": "4eKNukAnrok0",
        "outputId": "363e336d-1e8c-4a9c-c70e-8ba016fa23db"
      },
      "execution_count": 102,
      "outputs": [
        {
          "output_type": "stream",
          "name": "stdout",
          "text": [
            "<class 'pandas.core.frame.DataFrame'>\n",
            "RangeIndex: 8523 entries, 0 to 8522\n",
            "Data columns (total 12 columns):\n",
            " #   Column                     Non-Null Count  Dtype  \n",
            "---  ------                     --------------  -----  \n",
            " 0   Item_Identifier            8523 non-null   object \n",
            " 1   Item_Weight                7060 non-null   float64\n",
            " 2   Item_Fat_Content           8523 non-null   object \n",
            " 3   Item_Visibility            8523 non-null   float64\n",
            " 4   Item_Type                  8523 non-null   object \n",
            " 5   Item_MRP                   8523 non-null   float64\n",
            " 6   Outlet_Identifier          8523 non-null   object \n",
            " 7   Outlet_Establishment_Year  8523 non-null   int64  \n",
            " 8   Outlet_Size                6113 non-null   object \n",
            " 9   Outlet_Location_Type       8523 non-null   object \n",
            " 10  Outlet_Type                8523 non-null   object \n",
            " 11  Item_Outlet_Sales          8523 non-null   float64\n",
            "dtypes: float64(4), int64(1), object(7)\n",
            "memory usage: 799.2+ KB\n"
          ]
        }
      ]
    },
    {
      "cell_type": "markdown",
      "source": [
        "### 3) Are there duplicates? If so, drop any duplicates."
      ],
      "metadata": {
        "id": "oJ2vTQSruqUV"
      }
    },
    {
      "cell_type": "code",
      "source": [
        "df_sales.duplicated().value_counts() #sum() \n",
        "#there are no duplicated rows in this dataset\n",
        "#df_sales.drop_duplicates()"
      ],
      "metadata": {
        "colab": {
          "base_uri": "https://localhost:8080/"
        },
        "id": "WcZ6_5yeubMH",
        "outputId": "f9b0f83c-a561-4402-95e1-1dd13737a0d8"
      },
      "execution_count": 103,
      "outputs": [
        {
          "output_type": "execute_result",
          "data": {
            "text/plain": [
              "False    8523\n",
              "dtype: int64"
            ]
          },
          "metadata": {},
          "execution_count": 103
        }
      ]
    },
    {
      "cell_type": "markdown",
      "source": [
        "###4) Identify missing values.\n",
        "\n"
      ],
      "metadata": {
        "id": "mNPMtIK_2VtT"
      }
    },
    {
      "cell_type": "code",
      "source": [
        "df_sales.isna().sum()[df_sales.isna().sum()>0]"
      ],
      "metadata": {
        "colab": {
          "base_uri": "https://localhost:8080/"
        },
        "id": "OEjdoJHnxbNT",
        "outputId": "a7255382-d096-4d22-8f3e-d0e75fa77efc"
      },
      "execution_count": 104,
      "outputs": [
        {
          "output_type": "execute_result",
          "data": {
            "text/plain": [
              "Item_Weight    1463\n",
              "Outlet_Size    2410\n",
              "dtype: int64"
            ]
          },
          "metadata": {},
          "execution_count": 104
        }
      ]
    },
    {
      "cell_type": "markdown",
      "source": [
        "# Addressing Missing Values\n",
        "\n",
        "\n",
        "*   5) Decide on how to address the missing values and do it! (This requires your judgement, so explain your choice)\n",
        "\n",
        "*   6) Confirm that there are no missing values after addressing them. \n",
        "\n",
        "\n",
        "\n",
        "\n"
      ],
      "metadata": {
        "id": "KQL5n4kA2hBE"
      }
    },
    {
      "cell_type": "markdown",
      "source": [
        "### Item_Weight \n",
        "Item_Weight is missing 1463 values. Investigate if weights are unique to the Item_Identifier"
      ],
      "metadata": {
        "id": "uhM2t1km9yPJ"
      }
    },
    {
      "cell_type": "code",
      "source": [
        "df_item_unique_weights = df_sales.loc[(df_sales['Item_Weight'].isnull() == False)  ,:].groupby(['Item_Identifier'])['Item_Weight'].nunique().reset_index(name='unique') \n",
        "display( f\"number of Unique Item_Identifiers is {df_sales['Item_Identifier'].nunique()}\")\n",
        "display(f\"number of Unique Item_Identifiers with unique weight {df_item_unique_weights.loc[df_item_unique_weights['unique'] == 1,'unique'].count()}\")\n",
        "print(f\"making sure that no unique items have more than 1 weight {df_item_unique_weights.loc[df_item_unique_weights['unique'] > 1,:].count()}\")"
      ],
      "metadata": {
        "colab": {
          "base_uri": "https://localhost:8080/",
          "height": 0
        },
        "id": "Lg9cFvuNzzy0",
        "outputId": "c7319162-622f-4a97-c3f5-d6e3a6293561"
      },
      "execution_count": 105,
      "outputs": [
        {
          "output_type": "display_data",
          "data": {
            "text/plain": [
              "'number of Unique Item_Identifiers is 1559'"
            ],
            "application/vnd.google.colaboratory.intrinsic+json": {
              "type": "string"
            }
          },
          "metadata": {}
        },
        {
          "output_type": "display_data",
          "data": {
            "text/plain": [
              "'number of Unique Item_Identifiers with unique weight 1555'"
            ],
            "application/vnd.google.colaboratory.intrinsic+json": {
              "type": "string"
            }
          },
          "metadata": {}
        },
        {
          "output_type": "stream",
          "name": "stdout",
          "text": [
            "making sure that no unique items have more than 1 weight Item_Identifier    0\n",
            "unique             0\n",
            "dtype: int64\n"
          ]
        }
      ]
    },
    {
      "cell_type": "markdown",
      "source": [
        "1555 Item_Identifiers with 1555 unique weights. There are no Item_Identifiers with different weights. Will try to apply the weights to the Item_Identifiers that are missing the weight"
      ],
      "metadata": {
        "id": "1kUDXGS2ZNzt"
      }
    },
    {
      "cell_type": "code",
      "source": [
        "#create dataframe of unique Item_Identifiers and Item_Weights for replacing null weights in df_sales\n",
        "df_item_weight = df_sales.loc[(df_sales['Item_Weight'].isnull() == False),:].groupby(['Item_Identifier'])['Item_Weight'].mean().reset_index()\n",
        "df_item_weight.head(5)"
      ],
      "metadata": {
        "colab": {
          "base_uri": "https://localhost:8080/",
          "height": 0
        },
        "id": "ev1cw7rqgMAe",
        "outputId": "14eabc5f-7c31-4243-b069-2c0f3515b0b8"
      },
      "execution_count": 106,
      "outputs": [
        {
          "output_type": "execute_result",
          "data": {
            "text/plain": [
              "  Item_Identifier  Item_Weight\n",
              "0           DRA12       11.600\n",
              "1           DRA24       19.350\n",
              "2           DRA59        8.270\n",
              "3           DRB01        7.390\n",
              "4           DRB13        6.115"
            ],
            "text/html": [
              "\n",
              "  <div id=\"df-70a56532-e5f9-4681-8c51-a8da2dec0a8b\">\n",
              "    <div class=\"colab-df-container\">\n",
              "      <div>\n",
              "<style scoped>\n",
              "    .dataframe tbody tr th:only-of-type {\n",
              "        vertical-align: middle;\n",
              "    }\n",
              "\n",
              "    .dataframe tbody tr th {\n",
              "        vertical-align: top;\n",
              "    }\n",
              "\n",
              "    .dataframe thead th {\n",
              "        text-align: right;\n",
              "    }\n",
              "</style>\n",
              "<table border=\"1\" class=\"dataframe\">\n",
              "  <thead>\n",
              "    <tr style=\"text-align: right;\">\n",
              "      <th></th>\n",
              "      <th>Item_Identifier</th>\n",
              "      <th>Item_Weight</th>\n",
              "    </tr>\n",
              "  </thead>\n",
              "  <tbody>\n",
              "    <tr>\n",
              "      <th>0</th>\n",
              "      <td>DRA12</td>\n",
              "      <td>11.600</td>\n",
              "    </tr>\n",
              "    <tr>\n",
              "      <th>1</th>\n",
              "      <td>DRA24</td>\n",
              "      <td>19.350</td>\n",
              "    </tr>\n",
              "    <tr>\n",
              "      <th>2</th>\n",
              "      <td>DRA59</td>\n",
              "      <td>8.270</td>\n",
              "    </tr>\n",
              "    <tr>\n",
              "      <th>3</th>\n",
              "      <td>DRB01</td>\n",
              "      <td>7.390</td>\n",
              "    </tr>\n",
              "    <tr>\n",
              "      <th>4</th>\n",
              "      <td>DRB13</td>\n",
              "      <td>6.115</td>\n",
              "    </tr>\n",
              "  </tbody>\n",
              "</table>\n",
              "</div>\n",
              "      <button class=\"colab-df-convert\" onclick=\"convertToInteractive('df-70a56532-e5f9-4681-8c51-a8da2dec0a8b')\"\n",
              "              title=\"Convert this dataframe to an interactive table.\"\n",
              "              style=\"display:none;\">\n",
              "        \n",
              "  <svg xmlns=\"http://www.w3.org/2000/svg\" height=\"24px\"viewBox=\"0 0 24 24\"\n",
              "       width=\"24px\">\n",
              "    <path d=\"M0 0h24v24H0V0z\" fill=\"none\"/>\n",
              "    <path d=\"M18.56 5.44l.94 2.06.94-2.06 2.06-.94-2.06-.94-.94-2.06-.94 2.06-2.06.94zm-11 1L8.5 8.5l.94-2.06 2.06-.94-2.06-.94L8.5 2.5l-.94 2.06-2.06.94zm10 10l.94 2.06.94-2.06 2.06-.94-2.06-.94-.94-2.06-.94 2.06-2.06.94z\"/><path d=\"M17.41 7.96l-1.37-1.37c-.4-.4-.92-.59-1.43-.59-.52 0-1.04.2-1.43.59L10.3 9.45l-7.72 7.72c-.78.78-.78 2.05 0 2.83L4 21.41c.39.39.9.59 1.41.59.51 0 1.02-.2 1.41-.59l7.78-7.78 2.81-2.81c.8-.78.8-2.07 0-2.86zM5.41 20L4 18.59l7.72-7.72 1.47 1.35L5.41 20z\"/>\n",
              "  </svg>\n",
              "      </button>\n",
              "      \n",
              "  <style>\n",
              "    .colab-df-container {\n",
              "      display:flex;\n",
              "      flex-wrap:wrap;\n",
              "      gap: 12px;\n",
              "    }\n",
              "\n",
              "    .colab-df-convert {\n",
              "      background-color: #E8F0FE;\n",
              "      border: none;\n",
              "      border-radius: 50%;\n",
              "      cursor: pointer;\n",
              "      display: none;\n",
              "      fill: #1967D2;\n",
              "      height: 32px;\n",
              "      padding: 0 0 0 0;\n",
              "      width: 32px;\n",
              "    }\n",
              "\n",
              "    .colab-df-convert:hover {\n",
              "      background-color: #E2EBFA;\n",
              "      box-shadow: 0px 1px 2px rgba(60, 64, 67, 0.3), 0px 1px 3px 1px rgba(60, 64, 67, 0.15);\n",
              "      fill: #174EA6;\n",
              "    }\n",
              "\n",
              "    [theme=dark] .colab-df-convert {\n",
              "      background-color: #3B4455;\n",
              "      fill: #D2E3FC;\n",
              "    }\n",
              "\n",
              "    [theme=dark] .colab-df-convert:hover {\n",
              "      background-color: #434B5C;\n",
              "      box-shadow: 0px 1px 3px 1px rgba(0, 0, 0, 0.15);\n",
              "      filter: drop-shadow(0px 1px 2px rgba(0, 0, 0, 0.3));\n",
              "      fill: #FFFFFF;\n",
              "    }\n",
              "  </style>\n",
              "\n",
              "      <script>\n",
              "        const buttonEl =\n",
              "          document.querySelector('#df-70a56532-e5f9-4681-8c51-a8da2dec0a8b button.colab-df-convert');\n",
              "        buttonEl.style.display =\n",
              "          google.colab.kernel.accessAllowed ? 'block' : 'none';\n",
              "\n",
              "        async function convertToInteractive(key) {\n",
              "          const element = document.querySelector('#df-70a56532-e5f9-4681-8c51-a8da2dec0a8b');\n",
              "          const dataTable =\n",
              "            await google.colab.kernel.invokeFunction('convertToInteractive',\n",
              "                                                     [key], {});\n",
              "          if (!dataTable) return;\n",
              "\n",
              "          const docLinkHtml = 'Like what you see? Visit the ' +\n",
              "            '<a target=\"_blank\" href=https://colab.research.google.com/notebooks/data_table.ipynb>data table notebook</a>'\n",
              "            + ' to learn more about interactive tables.';\n",
              "          element.innerHTML = '';\n",
              "          dataTable['output_type'] = 'display_data';\n",
              "          await google.colab.output.renderOutput(dataTable, element);\n",
              "          const docLink = document.createElement('div');\n",
              "          docLink.innerHTML = docLinkHtml;\n",
              "          element.appendChild(docLink);\n",
              "        }\n",
              "      </script>\n",
              "    </div>\n",
              "  </div>\n",
              "  "
            ]
          },
          "metadata": {},
          "execution_count": 106
        }
      ]
    },
    {
      "cell_type": "code",
      "source": [
        "#iterate through the df_sales dataframe and replace null values with the corresponding weight from df_item_weight\n",
        "count = 0\n",
        "for x in range(len(df_sales)):\n",
        "  if pd.isnull(df_sales.loc[x,\"Item_Weight\"]) == True :\n",
        "    item = df_sales.loc[x,'Item_Identifier']\n",
        "    weight = df_sales.loc[x,'Item_Weight']\n",
        "    new_weight = df_item_weight.loc[df_item_weight['Item_Identifier'] == item, 'Item_Weight'].min()\n",
        "      #really just want to return the Items weight here. Since only 1 value, can use any .min() .max() .sum() ... look into better method\n",
        "    df_sales.loc[(df_sales['Item_Identifier'] == item) & pd.isnull(df_sales['Item_Weight']),'Item_Weight'] = new_weight      \n",
        "    count+=1\n",
        "remaining = df_sales['Item_Weight'].isnull().sum()\n",
        "print(f'{count} Item_Weight values were updated!! {remaining} are still missing')"
      ],
      "metadata": {
        "colab": {
          "base_uri": "https://localhost:8080/"
        },
        "id": "FfZH3050Wr67",
        "outputId": "343a9840-8674-4d48-f952-d70971a5f170"
      },
      "execution_count": 107,
      "outputs": [
        {
          "output_type": "stream",
          "name": "stdout",
          "text": [
            "1142 Item_Weight values were updated!! 4 are still missing\n"
          ]
        }
      ]
    },
    {
      "cell_type": "code",
      "source": [
        "df_sales.loc[pd.isnull(df_sales['Item_Weight']) == True,:] \n",
        "#Reviewing the 4 Items with missing weights below, Item_MRP is reported.  \n",
        "#Will find what the avg price per pound is per Item_Type and apply to the remaining values"
      ],
      "metadata": {
        "colab": {
          "base_uri": "https://localhost:8080/",
          "height": 0
        },
        "id": "Tr2lR-WUh155",
        "outputId": "19a9be35-8044-4900-d337-9b74c5aa7b67"
      },
      "execution_count": 108,
      "outputs": [
        {
          "output_type": "execute_result",
          "data": {
            "text/plain": [
              "     Item_Identifier  Item_Weight Item_Fat_Content  Item_Visibility  \\\n",
              "927            FDN52          NaN          Regular         0.130933   \n",
              "1922           FDK57          NaN          Low Fat         0.079904   \n",
              "4187           FDE52          NaN          Regular         0.029742   \n",
              "5022           FDQ60          NaN          Regular         0.191501   \n",
              "\n",
              "         Item_Type  Item_MRP Outlet_Identifier  Outlet_Establishment_Year  \\\n",
              "927   Frozen Foods   86.9198            OUT027                       1985   \n",
              "1922   Snack Foods  120.0440            OUT027                       1985   \n",
              "4187         Dairy   88.9514            OUT027                       1985   \n",
              "5022  Baking Goods  121.2098            OUT019                       1985   \n",
              "\n",
              "     Outlet_Size Outlet_Location_Type        Outlet_Type  Item_Outlet_Sales  \n",
              "927       Medium               Tier 3  Supermarket Type3          1569.9564  \n",
              "1922      Medium               Tier 3  Supermarket Type3          4434.2280  \n",
              "4187      Medium               Tier 3  Supermarket Type3          3453.5046  \n",
              "5022       Small               Tier 1      Grocery Store           120.5098  "
            ],
            "text/html": [
              "\n",
              "  <div id=\"df-f447ae50-a83a-48d5-b1a4-95a525e4c7d7\">\n",
              "    <div class=\"colab-df-container\">\n",
              "      <div>\n",
              "<style scoped>\n",
              "    .dataframe tbody tr th:only-of-type {\n",
              "        vertical-align: middle;\n",
              "    }\n",
              "\n",
              "    .dataframe tbody tr th {\n",
              "        vertical-align: top;\n",
              "    }\n",
              "\n",
              "    .dataframe thead th {\n",
              "        text-align: right;\n",
              "    }\n",
              "</style>\n",
              "<table border=\"1\" class=\"dataframe\">\n",
              "  <thead>\n",
              "    <tr style=\"text-align: right;\">\n",
              "      <th></th>\n",
              "      <th>Item_Identifier</th>\n",
              "      <th>Item_Weight</th>\n",
              "      <th>Item_Fat_Content</th>\n",
              "      <th>Item_Visibility</th>\n",
              "      <th>Item_Type</th>\n",
              "      <th>Item_MRP</th>\n",
              "      <th>Outlet_Identifier</th>\n",
              "      <th>Outlet_Establishment_Year</th>\n",
              "      <th>Outlet_Size</th>\n",
              "      <th>Outlet_Location_Type</th>\n",
              "      <th>Outlet_Type</th>\n",
              "      <th>Item_Outlet_Sales</th>\n",
              "    </tr>\n",
              "  </thead>\n",
              "  <tbody>\n",
              "    <tr>\n",
              "      <th>927</th>\n",
              "      <td>FDN52</td>\n",
              "      <td>NaN</td>\n",
              "      <td>Regular</td>\n",
              "      <td>0.130933</td>\n",
              "      <td>Frozen Foods</td>\n",
              "      <td>86.9198</td>\n",
              "      <td>OUT027</td>\n",
              "      <td>1985</td>\n",
              "      <td>Medium</td>\n",
              "      <td>Tier 3</td>\n",
              "      <td>Supermarket Type3</td>\n",
              "      <td>1569.9564</td>\n",
              "    </tr>\n",
              "    <tr>\n",
              "      <th>1922</th>\n",
              "      <td>FDK57</td>\n",
              "      <td>NaN</td>\n",
              "      <td>Low Fat</td>\n",
              "      <td>0.079904</td>\n",
              "      <td>Snack Foods</td>\n",
              "      <td>120.0440</td>\n",
              "      <td>OUT027</td>\n",
              "      <td>1985</td>\n",
              "      <td>Medium</td>\n",
              "      <td>Tier 3</td>\n",
              "      <td>Supermarket Type3</td>\n",
              "      <td>4434.2280</td>\n",
              "    </tr>\n",
              "    <tr>\n",
              "      <th>4187</th>\n",
              "      <td>FDE52</td>\n",
              "      <td>NaN</td>\n",
              "      <td>Regular</td>\n",
              "      <td>0.029742</td>\n",
              "      <td>Dairy</td>\n",
              "      <td>88.9514</td>\n",
              "      <td>OUT027</td>\n",
              "      <td>1985</td>\n",
              "      <td>Medium</td>\n",
              "      <td>Tier 3</td>\n",
              "      <td>Supermarket Type3</td>\n",
              "      <td>3453.5046</td>\n",
              "    </tr>\n",
              "    <tr>\n",
              "      <th>5022</th>\n",
              "      <td>FDQ60</td>\n",
              "      <td>NaN</td>\n",
              "      <td>Regular</td>\n",
              "      <td>0.191501</td>\n",
              "      <td>Baking Goods</td>\n",
              "      <td>121.2098</td>\n",
              "      <td>OUT019</td>\n",
              "      <td>1985</td>\n",
              "      <td>Small</td>\n",
              "      <td>Tier 1</td>\n",
              "      <td>Grocery Store</td>\n",
              "      <td>120.5098</td>\n",
              "    </tr>\n",
              "  </tbody>\n",
              "</table>\n",
              "</div>\n",
              "      <button class=\"colab-df-convert\" onclick=\"convertToInteractive('df-f447ae50-a83a-48d5-b1a4-95a525e4c7d7')\"\n",
              "              title=\"Convert this dataframe to an interactive table.\"\n",
              "              style=\"display:none;\">\n",
              "        \n",
              "  <svg xmlns=\"http://www.w3.org/2000/svg\" height=\"24px\"viewBox=\"0 0 24 24\"\n",
              "       width=\"24px\">\n",
              "    <path d=\"M0 0h24v24H0V0z\" fill=\"none\"/>\n",
              "    <path d=\"M18.56 5.44l.94 2.06.94-2.06 2.06-.94-2.06-.94-.94-2.06-.94 2.06-2.06.94zm-11 1L8.5 8.5l.94-2.06 2.06-.94-2.06-.94L8.5 2.5l-.94 2.06-2.06.94zm10 10l.94 2.06.94-2.06 2.06-.94-2.06-.94-.94-2.06-.94 2.06-2.06.94z\"/><path d=\"M17.41 7.96l-1.37-1.37c-.4-.4-.92-.59-1.43-.59-.52 0-1.04.2-1.43.59L10.3 9.45l-7.72 7.72c-.78.78-.78 2.05 0 2.83L4 21.41c.39.39.9.59 1.41.59.51 0 1.02-.2 1.41-.59l7.78-7.78 2.81-2.81c.8-.78.8-2.07 0-2.86zM5.41 20L4 18.59l7.72-7.72 1.47 1.35L5.41 20z\"/>\n",
              "  </svg>\n",
              "      </button>\n",
              "      \n",
              "  <style>\n",
              "    .colab-df-container {\n",
              "      display:flex;\n",
              "      flex-wrap:wrap;\n",
              "      gap: 12px;\n",
              "    }\n",
              "\n",
              "    .colab-df-convert {\n",
              "      background-color: #E8F0FE;\n",
              "      border: none;\n",
              "      border-radius: 50%;\n",
              "      cursor: pointer;\n",
              "      display: none;\n",
              "      fill: #1967D2;\n",
              "      height: 32px;\n",
              "      padding: 0 0 0 0;\n",
              "      width: 32px;\n",
              "    }\n",
              "\n",
              "    .colab-df-convert:hover {\n",
              "      background-color: #E2EBFA;\n",
              "      box-shadow: 0px 1px 2px rgba(60, 64, 67, 0.3), 0px 1px 3px 1px rgba(60, 64, 67, 0.15);\n",
              "      fill: #174EA6;\n",
              "    }\n",
              "\n",
              "    [theme=dark] .colab-df-convert {\n",
              "      background-color: #3B4455;\n",
              "      fill: #D2E3FC;\n",
              "    }\n",
              "\n",
              "    [theme=dark] .colab-df-convert:hover {\n",
              "      background-color: #434B5C;\n",
              "      box-shadow: 0px 1px 3px 1px rgba(0, 0, 0, 0.15);\n",
              "      filter: drop-shadow(0px 1px 2px rgba(0, 0, 0, 0.3));\n",
              "      fill: #FFFFFF;\n",
              "    }\n",
              "  </style>\n",
              "\n",
              "      <script>\n",
              "        const buttonEl =\n",
              "          document.querySelector('#df-f447ae50-a83a-48d5-b1a4-95a525e4c7d7 button.colab-df-convert');\n",
              "        buttonEl.style.display =\n",
              "          google.colab.kernel.accessAllowed ? 'block' : 'none';\n",
              "\n",
              "        async function convertToInteractive(key) {\n",
              "          const element = document.querySelector('#df-f447ae50-a83a-48d5-b1a4-95a525e4c7d7');\n",
              "          const dataTable =\n",
              "            await google.colab.kernel.invokeFunction('convertToInteractive',\n",
              "                                                     [key], {});\n",
              "          if (!dataTable) return;\n",
              "\n",
              "          const docLinkHtml = 'Like what you see? Visit the ' +\n",
              "            '<a target=\"_blank\" href=https://colab.research.google.com/notebooks/data_table.ipynb>data table notebook</a>'\n",
              "            + ' to learn more about interactive tables.';\n",
              "          element.innerHTML = '';\n",
              "          dataTable['output_type'] = 'display_data';\n",
              "          await google.colab.output.renderOutput(dataTable, element);\n",
              "          const docLink = document.createElement('div');\n",
              "          docLink.innerHTML = docLinkHtml;\n",
              "          element.appendChild(docLink);\n",
              "        }\n",
              "      </script>\n",
              "    </div>\n",
              "  </div>\n",
              "  "
            ]
          },
          "metadata": {},
          "execution_count": 108
        }
      ]
    },
    {
      "cell_type": "code",
      "source": [
        "#creating new column for price per weight\n",
        "df_sales['Price_Per_Pound'] =  df_sales['Item_MRP']/df_sales['Item_Weight']\n",
        "#create dataframe for  average Price_Per_Pound grouped by Item_Type\n",
        "df_Price_Per_Pound = df_sales.groupby('Item_Type')['Price_Per_Pound'].mean().reset_index()\n",
        "# apply MRP/Price_Per_Pound = weight\n"
      ],
      "metadata": {
        "id": "3CKKuWBwcihq"
      },
      "execution_count": 109,
      "outputs": []
    },
    {
      "cell_type": "code",
      "source": [
        "\n",
        "df_Price_Per_Pound.head()"
      ],
      "metadata": {
        "colab": {
          "base_uri": "https://localhost:8080/",
          "height": 0
        },
        "id": "MjXEaNetftVK",
        "outputId": "6a61cbef-9991-46e5-942f-15198c3e2f68"
      },
      "execution_count": 110,
      "outputs": [
        {
          "output_type": "execute_result",
          "data": {
            "text/plain": [
              "      Item_Type  Price_Per_Pound\n",
              "0  Baking Goods        11.835553\n",
              "1        Breads        15.215738\n",
              "2     Breakfast        12.686476\n",
              "3        Canned        13.420518\n",
              "4         Dairy        12.527821"
            ],
            "text/html": [
              "\n",
              "  <div id=\"df-60d823d2-a127-4c99-9bad-548e6bae9992\">\n",
              "    <div class=\"colab-df-container\">\n",
              "      <div>\n",
              "<style scoped>\n",
              "    .dataframe tbody tr th:only-of-type {\n",
              "        vertical-align: middle;\n",
              "    }\n",
              "\n",
              "    .dataframe tbody tr th {\n",
              "        vertical-align: top;\n",
              "    }\n",
              "\n",
              "    .dataframe thead th {\n",
              "        text-align: right;\n",
              "    }\n",
              "</style>\n",
              "<table border=\"1\" class=\"dataframe\">\n",
              "  <thead>\n",
              "    <tr style=\"text-align: right;\">\n",
              "      <th></th>\n",
              "      <th>Item_Type</th>\n",
              "      <th>Price_Per_Pound</th>\n",
              "    </tr>\n",
              "  </thead>\n",
              "  <tbody>\n",
              "    <tr>\n",
              "      <th>0</th>\n",
              "      <td>Baking Goods</td>\n",
              "      <td>11.835553</td>\n",
              "    </tr>\n",
              "    <tr>\n",
              "      <th>1</th>\n",
              "      <td>Breads</td>\n",
              "      <td>15.215738</td>\n",
              "    </tr>\n",
              "    <tr>\n",
              "      <th>2</th>\n",
              "      <td>Breakfast</td>\n",
              "      <td>12.686476</td>\n",
              "    </tr>\n",
              "    <tr>\n",
              "      <th>3</th>\n",
              "      <td>Canned</td>\n",
              "      <td>13.420518</td>\n",
              "    </tr>\n",
              "    <tr>\n",
              "      <th>4</th>\n",
              "      <td>Dairy</td>\n",
              "      <td>12.527821</td>\n",
              "    </tr>\n",
              "  </tbody>\n",
              "</table>\n",
              "</div>\n",
              "      <button class=\"colab-df-convert\" onclick=\"convertToInteractive('df-60d823d2-a127-4c99-9bad-548e6bae9992')\"\n",
              "              title=\"Convert this dataframe to an interactive table.\"\n",
              "              style=\"display:none;\">\n",
              "        \n",
              "  <svg xmlns=\"http://www.w3.org/2000/svg\" height=\"24px\"viewBox=\"0 0 24 24\"\n",
              "       width=\"24px\">\n",
              "    <path d=\"M0 0h24v24H0V0z\" fill=\"none\"/>\n",
              "    <path d=\"M18.56 5.44l.94 2.06.94-2.06 2.06-.94-2.06-.94-.94-2.06-.94 2.06-2.06.94zm-11 1L8.5 8.5l.94-2.06 2.06-.94-2.06-.94L8.5 2.5l-.94 2.06-2.06.94zm10 10l.94 2.06.94-2.06 2.06-.94-2.06-.94-.94-2.06-.94 2.06-2.06.94z\"/><path d=\"M17.41 7.96l-1.37-1.37c-.4-.4-.92-.59-1.43-.59-.52 0-1.04.2-1.43.59L10.3 9.45l-7.72 7.72c-.78.78-.78 2.05 0 2.83L4 21.41c.39.39.9.59 1.41.59.51 0 1.02-.2 1.41-.59l7.78-7.78 2.81-2.81c.8-.78.8-2.07 0-2.86zM5.41 20L4 18.59l7.72-7.72 1.47 1.35L5.41 20z\"/>\n",
              "  </svg>\n",
              "      </button>\n",
              "      \n",
              "  <style>\n",
              "    .colab-df-container {\n",
              "      display:flex;\n",
              "      flex-wrap:wrap;\n",
              "      gap: 12px;\n",
              "    }\n",
              "\n",
              "    .colab-df-convert {\n",
              "      background-color: #E8F0FE;\n",
              "      border: none;\n",
              "      border-radius: 50%;\n",
              "      cursor: pointer;\n",
              "      display: none;\n",
              "      fill: #1967D2;\n",
              "      height: 32px;\n",
              "      padding: 0 0 0 0;\n",
              "      width: 32px;\n",
              "    }\n",
              "\n",
              "    .colab-df-convert:hover {\n",
              "      background-color: #E2EBFA;\n",
              "      box-shadow: 0px 1px 2px rgba(60, 64, 67, 0.3), 0px 1px 3px 1px rgba(60, 64, 67, 0.15);\n",
              "      fill: #174EA6;\n",
              "    }\n",
              "\n",
              "    [theme=dark] .colab-df-convert {\n",
              "      background-color: #3B4455;\n",
              "      fill: #D2E3FC;\n",
              "    }\n",
              "\n",
              "    [theme=dark] .colab-df-convert:hover {\n",
              "      background-color: #434B5C;\n",
              "      box-shadow: 0px 1px 3px 1px rgba(0, 0, 0, 0.15);\n",
              "      filter: drop-shadow(0px 1px 2px rgba(0, 0, 0, 0.3));\n",
              "      fill: #FFFFFF;\n",
              "    }\n",
              "  </style>\n",
              "\n",
              "      <script>\n",
              "        const buttonEl =\n",
              "          document.querySelector('#df-60d823d2-a127-4c99-9bad-548e6bae9992 button.colab-df-convert');\n",
              "        buttonEl.style.display =\n",
              "          google.colab.kernel.accessAllowed ? 'block' : 'none';\n",
              "\n",
              "        async function convertToInteractive(key) {\n",
              "          const element = document.querySelector('#df-60d823d2-a127-4c99-9bad-548e6bae9992');\n",
              "          const dataTable =\n",
              "            await google.colab.kernel.invokeFunction('convertToInteractive',\n",
              "                                                     [key], {});\n",
              "          if (!dataTable) return;\n",
              "\n",
              "          const docLinkHtml = 'Like what you see? Visit the ' +\n",
              "            '<a target=\"_blank\" href=https://colab.research.google.com/notebooks/data_table.ipynb>data table notebook</a>'\n",
              "            + ' to learn more about interactive tables.';\n",
              "          element.innerHTML = '';\n",
              "          dataTable['output_type'] = 'display_data';\n",
              "          await google.colab.output.renderOutput(dataTable, element);\n",
              "          const docLink = document.createElement('div');\n",
              "          docLink.innerHTML = docLinkHtml;\n",
              "          element.appendChild(docLink);\n",
              "        }\n",
              "      </script>\n",
              "    </div>\n",
              "  </div>\n",
              "  "
            ]
          },
          "metadata": {},
          "execution_count": 110
        }
      ]
    },
    {
      "cell_type": "code",
      "source": [
        "count = 0\n",
        "for x in range(len(df_sales)):\n",
        "  if pd.isnull(df_sales.loc[x,\"Item_Weight\"]) == True :\n",
        "    item = df_sales.loc[x,'Item_Identifier']\n",
        "    item_type = df_sales.loc[x,'Item_Type']\n",
        "      #get the price per pound that realtes to the item type for this specific item\n",
        "    price_per_pound = df_Price_Per_Pound.loc[df_Price_Per_Pound['Item_Type'] == item_type, 'Price_Per_Pound'].min() \n",
        "      #really just want to return the Item_Types Price_Per_Pound here. Since only 1 value, can use any .min() .max() .sum() ... look into better method\n",
        "      # fill in the blank price_per_pound for the items with missing weights\n",
        "    df_sales.loc[(df_sales['Item_Identifier'] == item) & pd.isnull(df_sales['Item_Weight']),'Price_Per_Pound'] = price_per_pound\n",
        "      # MRP / price per pound, should = approximate weight\n",
        "    df_sales.loc[x,'Item_Weight'] =  df_sales.loc[x,'Item_MRP']/df_sales.loc[x,'Price_Per_Pound']\n",
        "    count+=1\n",
        "remaining = df_sales['Item_Weight'].isnull().sum()\n",
        "print(f'{count} Item_Weight values were updated!! {remaining} are still missing')"
      ],
      "metadata": {
        "colab": {
          "base_uri": "https://localhost:8080/"
        },
        "outputId": "b05ce3c1-a604-4d6d-a460-fe3753521078",
        "id": "Ub3qjvY7kVD_"
      },
      "execution_count": 111,
      "outputs": [
        {
          "output_type": "stream",
          "name": "stdout",
          "text": [
            "4 Item_Weight values were updated!! 0 are still missing\n"
          ]
        }
      ]
    },
    {
      "cell_type": "markdown",
      "source": [
        "###Outlet_Size\n",
        "Outlet_Size is missing 2410 values. Investigte if total sales , # of items , or Outlet_Type can predict Outlet_Size"
      ],
      "metadata": {
        "id": "kcgyZIkWsV_-"
      }
    },
    {
      "cell_type": "code",
      "source": [
        "#fill in the missing outlet_size with \"missing\" for analysis\n",
        "df_sales.loc[df_sales['Outlet_Size'].isnull() == True,'Outlet_Size'] = 'missing'\n",
        "df_sales.loc[df_sales['Outlet_Size']=='missing',:].head()"
      ],
      "metadata": {
        "colab": {
          "base_uri": "https://localhost:8080/",
          "height": 0
        },
        "id": "B1ak3GBYxOiF",
        "outputId": "8f029efd-9ac5-4858-ef87-711c93089b5b"
      },
      "execution_count": 112,
      "outputs": [
        {
          "output_type": "execute_result",
          "data": {
            "text/plain": [
              "   Item_Identifier  Item_Weight Item_Fat_Content  Item_Visibility  \\\n",
              "3            FDX07       19.200          Regular         0.000000   \n",
              "8            FDH17       16.200          Regular         0.016687   \n",
              "9            FDU28       19.200          Regular         0.094450   \n",
              "25           NCD06       13.000          Low Fat         0.099887   \n",
              "28           FDE51        5.925          Regular         0.161467   \n",
              "\n",
              "                Item_Type  Item_MRP Outlet_Identifier  \\\n",
              "3   Fruits and Vegetables  182.0950            OUT010   \n",
              "8            Frozen Foods   96.9726            OUT045   \n",
              "9            Frozen Foods  187.8214            OUT017   \n",
              "25              Household   45.9060            OUT017   \n",
              "28                  Dairy   45.5086            OUT010   \n",
              "\n",
              "    Outlet_Establishment_Year Outlet_Size Outlet_Location_Type  \\\n",
              "3                        1998     missing               Tier 3   \n",
              "8                        2002     missing               Tier 2   \n",
              "9                        2007     missing               Tier 2   \n",
              "25                       2007     missing               Tier 2   \n",
              "28                       1998     missing               Tier 3   \n",
              "\n",
              "          Outlet_Type  Item_Outlet_Sales  Price_Per_Pound  \n",
              "3       Grocery Store           732.3800         9.484115  \n",
              "8   Supermarket Type1          1076.5986         5.985963  \n",
              "9   Supermarket Type1          4710.5350         9.782365  \n",
              "25  Supermarket Type1           838.9080         3.531231  \n",
              "28      Grocery Store           178.4344         7.680776  "
            ],
            "text/html": [
              "\n",
              "  <div id=\"df-dfb70d2e-c178-491c-b107-b22114667295\">\n",
              "    <div class=\"colab-df-container\">\n",
              "      <div>\n",
              "<style scoped>\n",
              "    .dataframe tbody tr th:only-of-type {\n",
              "        vertical-align: middle;\n",
              "    }\n",
              "\n",
              "    .dataframe tbody tr th {\n",
              "        vertical-align: top;\n",
              "    }\n",
              "\n",
              "    .dataframe thead th {\n",
              "        text-align: right;\n",
              "    }\n",
              "</style>\n",
              "<table border=\"1\" class=\"dataframe\">\n",
              "  <thead>\n",
              "    <tr style=\"text-align: right;\">\n",
              "      <th></th>\n",
              "      <th>Item_Identifier</th>\n",
              "      <th>Item_Weight</th>\n",
              "      <th>Item_Fat_Content</th>\n",
              "      <th>Item_Visibility</th>\n",
              "      <th>Item_Type</th>\n",
              "      <th>Item_MRP</th>\n",
              "      <th>Outlet_Identifier</th>\n",
              "      <th>Outlet_Establishment_Year</th>\n",
              "      <th>Outlet_Size</th>\n",
              "      <th>Outlet_Location_Type</th>\n",
              "      <th>Outlet_Type</th>\n",
              "      <th>Item_Outlet_Sales</th>\n",
              "      <th>Price_Per_Pound</th>\n",
              "    </tr>\n",
              "  </thead>\n",
              "  <tbody>\n",
              "    <tr>\n",
              "      <th>3</th>\n",
              "      <td>FDX07</td>\n",
              "      <td>19.200</td>\n",
              "      <td>Regular</td>\n",
              "      <td>0.000000</td>\n",
              "      <td>Fruits and Vegetables</td>\n",
              "      <td>182.0950</td>\n",
              "      <td>OUT010</td>\n",
              "      <td>1998</td>\n",
              "      <td>missing</td>\n",
              "      <td>Tier 3</td>\n",
              "      <td>Grocery Store</td>\n",
              "      <td>732.3800</td>\n",
              "      <td>9.484115</td>\n",
              "    </tr>\n",
              "    <tr>\n",
              "      <th>8</th>\n",
              "      <td>FDH17</td>\n",
              "      <td>16.200</td>\n",
              "      <td>Regular</td>\n",
              "      <td>0.016687</td>\n",
              "      <td>Frozen Foods</td>\n",
              "      <td>96.9726</td>\n",
              "      <td>OUT045</td>\n",
              "      <td>2002</td>\n",
              "      <td>missing</td>\n",
              "      <td>Tier 2</td>\n",
              "      <td>Supermarket Type1</td>\n",
              "      <td>1076.5986</td>\n",
              "      <td>5.985963</td>\n",
              "    </tr>\n",
              "    <tr>\n",
              "      <th>9</th>\n",
              "      <td>FDU28</td>\n",
              "      <td>19.200</td>\n",
              "      <td>Regular</td>\n",
              "      <td>0.094450</td>\n",
              "      <td>Frozen Foods</td>\n",
              "      <td>187.8214</td>\n",
              "      <td>OUT017</td>\n",
              "      <td>2007</td>\n",
              "      <td>missing</td>\n",
              "      <td>Tier 2</td>\n",
              "      <td>Supermarket Type1</td>\n",
              "      <td>4710.5350</td>\n",
              "      <td>9.782365</td>\n",
              "    </tr>\n",
              "    <tr>\n",
              "      <th>25</th>\n",
              "      <td>NCD06</td>\n",
              "      <td>13.000</td>\n",
              "      <td>Low Fat</td>\n",
              "      <td>0.099887</td>\n",
              "      <td>Household</td>\n",
              "      <td>45.9060</td>\n",
              "      <td>OUT017</td>\n",
              "      <td>2007</td>\n",
              "      <td>missing</td>\n",
              "      <td>Tier 2</td>\n",
              "      <td>Supermarket Type1</td>\n",
              "      <td>838.9080</td>\n",
              "      <td>3.531231</td>\n",
              "    </tr>\n",
              "    <tr>\n",
              "      <th>28</th>\n",
              "      <td>FDE51</td>\n",
              "      <td>5.925</td>\n",
              "      <td>Regular</td>\n",
              "      <td>0.161467</td>\n",
              "      <td>Dairy</td>\n",
              "      <td>45.5086</td>\n",
              "      <td>OUT010</td>\n",
              "      <td>1998</td>\n",
              "      <td>missing</td>\n",
              "      <td>Tier 3</td>\n",
              "      <td>Grocery Store</td>\n",
              "      <td>178.4344</td>\n",
              "      <td>7.680776</td>\n",
              "    </tr>\n",
              "  </tbody>\n",
              "</table>\n",
              "</div>\n",
              "      <button class=\"colab-df-convert\" onclick=\"convertToInteractive('df-dfb70d2e-c178-491c-b107-b22114667295')\"\n",
              "              title=\"Convert this dataframe to an interactive table.\"\n",
              "              style=\"display:none;\">\n",
              "        \n",
              "  <svg xmlns=\"http://www.w3.org/2000/svg\" height=\"24px\"viewBox=\"0 0 24 24\"\n",
              "       width=\"24px\">\n",
              "    <path d=\"M0 0h24v24H0V0z\" fill=\"none\"/>\n",
              "    <path d=\"M18.56 5.44l.94 2.06.94-2.06 2.06-.94-2.06-.94-.94-2.06-.94 2.06-2.06.94zm-11 1L8.5 8.5l.94-2.06 2.06-.94-2.06-.94L8.5 2.5l-.94 2.06-2.06.94zm10 10l.94 2.06.94-2.06 2.06-.94-2.06-.94-.94-2.06-.94 2.06-2.06.94z\"/><path d=\"M17.41 7.96l-1.37-1.37c-.4-.4-.92-.59-1.43-.59-.52 0-1.04.2-1.43.59L10.3 9.45l-7.72 7.72c-.78.78-.78 2.05 0 2.83L4 21.41c.39.39.9.59 1.41.59.51 0 1.02-.2 1.41-.59l7.78-7.78 2.81-2.81c.8-.78.8-2.07 0-2.86zM5.41 20L4 18.59l7.72-7.72 1.47 1.35L5.41 20z\"/>\n",
              "  </svg>\n",
              "      </button>\n",
              "      \n",
              "  <style>\n",
              "    .colab-df-container {\n",
              "      display:flex;\n",
              "      flex-wrap:wrap;\n",
              "      gap: 12px;\n",
              "    }\n",
              "\n",
              "    .colab-df-convert {\n",
              "      background-color: #E8F0FE;\n",
              "      border: none;\n",
              "      border-radius: 50%;\n",
              "      cursor: pointer;\n",
              "      display: none;\n",
              "      fill: #1967D2;\n",
              "      height: 32px;\n",
              "      padding: 0 0 0 0;\n",
              "      width: 32px;\n",
              "    }\n",
              "\n",
              "    .colab-df-convert:hover {\n",
              "      background-color: #E2EBFA;\n",
              "      box-shadow: 0px 1px 2px rgba(60, 64, 67, 0.3), 0px 1px 3px 1px rgba(60, 64, 67, 0.15);\n",
              "      fill: #174EA6;\n",
              "    }\n",
              "\n",
              "    [theme=dark] .colab-df-convert {\n",
              "      background-color: #3B4455;\n",
              "      fill: #D2E3FC;\n",
              "    }\n",
              "\n",
              "    [theme=dark] .colab-df-convert:hover {\n",
              "      background-color: #434B5C;\n",
              "      box-shadow: 0px 1px 3px 1px rgba(0, 0, 0, 0.15);\n",
              "      filter: drop-shadow(0px 1px 2px rgba(0, 0, 0, 0.3));\n",
              "      fill: #FFFFFF;\n",
              "    }\n",
              "  </style>\n",
              "\n",
              "      <script>\n",
              "        const buttonEl =\n",
              "          document.querySelector('#df-dfb70d2e-c178-491c-b107-b22114667295 button.colab-df-convert');\n",
              "        buttonEl.style.display =\n",
              "          google.colab.kernel.accessAllowed ? 'block' : 'none';\n",
              "\n",
              "        async function convertToInteractive(key) {\n",
              "          const element = document.querySelector('#df-dfb70d2e-c178-491c-b107-b22114667295');\n",
              "          const dataTable =\n",
              "            await google.colab.kernel.invokeFunction('convertToInteractive',\n",
              "                                                     [key], {});\n",
              "          if (!dataTable) return;\n",
              "\n",
              "          const docLinkHtml = 'Like what you see? Visit the ' +\n",
              "            '<a target=\"_blank\" href=https://colab.research.google.com/notebooks/data_table.ipynb>data table notebook</a>'\n",
              "            + ' to learn more about interactive tables.';\n",
              "          element.innerHTML = '';\n",
              "          dataTable['output_type'] = 'display_data';\n",
              "          await google.colab.output.renderOutput(dataTable, element);\n",
              "          const docLink = document.createElement('div');\n",
              "          docLink.innerHTML = docLinkHtml;\n",
              "          element.appendChild(docLink);\n",
              "        }\n",
              "      </script>\n",
              "    </div>\n",
              "  </div>\n",
              "  "
            ]
          },
          "metadata": {},
          "execution_count": 112
        }
      ]
    },
    {
      "cell_type": "code",
      "source": [
        "df_sales.groupby(['Outlet_Type','Outlet_Identifier','Outlet_Size','Outlet_Location_Type'])['Item_Identifier'].nunique()"
      ],
      "metadata": {
        "colab": {
          "base_uri": "https://localhost:8080/"
        },
        "id": "eLqrN7SltUVX",
        "outputId": "7c845b71-98d7-4dbc-a3aa-713ebb3c7d1d"
      },
      "execution_count": 113,
      "outputs": [
        {
          "output_type": "execute_result",
          "data": {
            "text/plain": [
              "Outlet_Type        Outlet_Identifier  Outlet_Size  Outlet_Location_Type\n",
              "Grocery Store      OUT010             missing      Tier 3                  555\n",
              "                   OUT019             Small        Tier 1                  528\n",
              "Supermarket Type1  OUT013             High         Tier 3                  932\n",
              "                   OUT017             missing      Tier 2                  926\n",
              "                   OUT035             Small        Tier 2                  930\n",
              "                   OUT045             missing      Tier 2                  929\n",
              "                   OUT046             Small        Tier 1                  930\n",
              "                   OUT049             Medium       Tier 1                  930\n",
              "Supermarket Type2  OUT018             Medium       Tier 3                  928\n",
              "Supermarket Type3  OUT027             Medium       Tier 3                  935\n",
              "Name: Item_Identifier, dtype: int64"
            ]
          },
          "metadata": {},
          "execution_count": 113
        }
      ]
    },
    {
      "cell_type": "code",
      "source": [
        "df_sales.groupby(['Outlet_Type','Outlet_Identifier','Outlet_Size','Outlet_Location_Type'])['Item_Outlet_Sales'].sum().round()"
      ],
      "metadata": {
        "colab": {
          "base_uri": "https://localhost:8080/"
        },
        "id": "_LjFtVxAwWgL",
        "outputId": "f4e12f50-e7c1-4113-83ea-db563b33d1e7"
      },
      "execution_count": 114,
      "outputs": [
        {
          "output_type": "execute_result",
          "data": {
            "text/plain": [
              "Outlet_Type        Outlet_Identifier  Outlet_Size  Outlet_Location_Type\n",
              "Grocery Store      OUT010             missing      Tier 3                   188340.0\n",
              "                   OUT019             Small        Tier 1                   179694.0\n",
              "Supermarket Type1  OUT013             High         Tier 3                  2142664.0\n",
              "                   OUT017             missing      Tier 2                  2167465.0\n",
              "                   OUT035             Small        Tier 2                  2268123.0\n",
              "                   OUT045             missing      Tier 2                  2036725.0\n",
              "                   OUT046             Small        Tier 1                  2118395.0\n",
              "                   OUT049             Medium       Tier 1                  2183970.0\n",
              "Supermarket Type2  OUT018             Medium       Tier 3                  1851823.0\n",
              "Supermarket Type3  OUT027             Medium       Tier 3                  3453926.0\n",
              "Name: Item_Outlet_Sales, dtype: float64"
            ]
          },
          "metadata": {},
          "execution_count": 114
        }
      ]
    },
    {
      "cell_type": "markdown",
      "source": [
        "###Looking at the matrix above for number of unique items sold, Out010 of Type Grocery Store could be classified as 'Small'.\n",
        "The other 2 Outlets missing the Size are classified as Supermarket Tye1. Need to investigate if OUT013 Size of High is an error -- seems like values would be small,medium and large. Other than Grocery Stores, which sell similar number of items and both sell half as many items, it is hard to classify the other stores size based on number of items sold or total sales. Will leave the null values for Outlet size as missing for now since the outlets size vs. outlet type may serve the same purpose for analytical needs. "
      ],
      "metadata": {
        "id": "19o-S21F1q8H"
      }
    },
    {
      "cell_type": "markdown",
      "source": [
        "###6) Confirm that there are no missing values after addressing them.\n",
        "\n"
      ],
      "metadata": {
        "id": "oGOGbAKloPDP"
      }
    },
    {
      "cell_type": "code",
      "source": [
        "df_sales.isnull().sum()\n",
        "#looks good. No missing values"
      ],
      "metadata": {
        "colab": {
          "base_uri": "https://localhost:8080/"
        },
        "id": "kHcpLfj7pyUf",
        "outputId": "c886085d-4a49-4dda-d82c-bcfc1d9a6226"
      },
      "execution_count": 115,
      "outputs": [
        {
          "output_type": "execute_result",
          "data": {
            "text/plain": [
              "Item_Identifier              0\n",
              "Item_Weight                  0\n",
              "Item_Fat_Content             0\n",
              "Item_Visibility              0\n",
              "Item_Type                    0\n",
              "Item_MRP                     0\n",
              "Outlet_Identifier            0\n",
              "Outlet_Establishment_Year    0\n",
              "Outlet_Size                  0\n",
              "Outlet_Location_Type         0\n",
              "Outlet_Type                  0\n",
              "Item_Outlet_Sales            0\n",
              "Price_Per_Pound              0\n",
              "dtype: int64"
            ]
          },
          "metadata": {},
          "execution_count": 115
        }
      ]
    },
    {
      "cell_type": "markdown",
      "source": [
        "#7) Find and fix any inconsistent categories of data (example: fix cat, Cat, and cats so that they are consistent) "
      ],
      "metadata": {
        "id": "LHkRGisznmuQ"
      }
    },
    {
      "cell_type": "code",
      "source": [
        "df_sales.info()"
      ],
      "metadata": {
        "colab": {
          "base_uri": "https://localhost:8080/"
        },
        "id": "-p3Rdg1tn7vS",
        "outputId": "1fc4ba73-8725-411f-d7d2-2f09e6ed32f2"
      },
      "execution_count": 116,
      "outputs": [
        {
          "output_type": "stream",
          "name": "stdout",
          "text": [
            "<class 'pandas.core.frame.DataFrame'>\n",
            "RangeIndex: 8523 entries, 0 to 8522\n",
            "Data columns (total 13 columns):\n",
            " #   Column                     Non-Null Count  Dtype  \n",
            "---  ------                     --------------  -----  \n",
            " 0   Item_Identifier            8523 non-null   object \n",
            " 1   Item_Weight                8523 non-null   float64\n",
            " 2   Item_Fat_Content           8523 non-null   object \n",
            " 3   Item_Visibility            8523 non-null   float64\n",
            " 4   Item_Type                  8523 non-null   object \n",
            " 5   Item_MRP                   8523 non-null   float64\n",
            " 6   Outlet_Identifier          8523 non-null   object \n",
            " 7   Outlet_Establishment_Year  8523 non-null   int64  \n",
            " 8   Outlet_Size                8523 non-null   object \n",
            " 9   Outlet_Location_Type       8523 non-null   object \n",
            " 10  Outlet_Type                8523 non-null   object \n",
            " 11  Item_Outlet_Sales          8523 non-null   float64\n",
            " 12  Price_Per_Pound            8523 non-null   float64\n",
            "dtypes: float64(5), int64(1), object(7)\n",
            "memory usage: 865.7+ KB\n"
          ]
        }
      ]
    },
    {
      "cell_type": "code",
      "source": [
        "#create function to call grouping by column name\n",
        "#the unique count of either items or outlets.\n",
        "def col_group(col_name,unique_by):\n",
        "  return df_sales.groupby(col_name)[unique_by].nunique()"
      ],
      "metadata": {
        "id": "G30K1DZmog0O"
      },
      "execution_count": 117,
      "outputs": []
    },
    {
      "cell_type": "markdown",
      "source": [
        "###Item_Fat_Content"
      ],
      "metadata": {
        "id": "2jzmxHXckbbw"
      }
    },
    {
      "cell_type": "code",
      "source": [
        "col_group('Item_Fat_Content','Item_Identifier')\n",
        "#Below shows that 275 unique items have the LF category."
      ],
      "metadata": {
        "id": "tmoOkhrMlMhO",
        "colab": {
          "base_uri": "https://localhost:8080/"
        },
        "outputId": "ac08cd26-4f04-4421-d7d1-766ef1fa068d"
      },
      "execution_count": 118,
      "outputs": [
        {
          "output_type": "execute_result",
          "data": {
            "text/plain": [
              "Item_Fat_Content\n",
              "LF          275\n",
              "Low Fat    1008\n",
              "Regular     551\n",
              "low fat     105\n",
              "reg         108\n",
              "Name: Item_Identifier, dtype: int64"
            ]
          },
          "metadata": {},
          "execution_count": 118
        }
      ]
    },
    {
      "cell_type": "code",
      "source": [
        "#create dictionary to remapp \n",
        "remap = {'LF':'Low Fat','reg':'Regular'}\n",
        "for x in remap.keys():\n",
        "  df_sales.loc[df_sales['Item_Fat_Content'] == x,'Item_Fat_Content'] = remap[x]\n",
        "  df_ml.loc[df_ml['Item_Fat_Content'] == x,'Item_Fat_Content'] = remap[x] \n",
        "#apply title() to uppercase the first letter of each word in the column \n",
        "df_sales['Item_Fat_Content'] = df_sales['Item_Fat_Content'].str.title()\n",
        "df_ml['Item_Fat_Content'] = df_ml['Item_Fat_Content'].str.title()"
      ],
      "metadata": {
        "id": "HS806feEo4ma"
      },
      "execution_count": 119,
      "outputs": []
    },
    {
      "cell_type": "code",
      "source": [
        "col_group('Item_Fat_Content','Item_Identifier')\n",
        "#showing the unique number of items in each category \n",
        "#Looks Good"
      ],
      "metadata": {
        "colab": {
          "base_uri": "https://localhost:8080/"
        },
        "id": "9DDv5_ty2cv6",
        "outputId": "b2cf7c93-6cdc-438e-c24f-550ab736e6ac"
      },
      "execution_count": 120,
      "outputs": [
        {
          "output_type": "execute_result",
          "data": {
            "text/plain": [
              "Item_Fat_Content\n",
              "Low Fat    1008\n",
              "Regular     551\n",
              "Name: Item_Identifier, dtype: int64"
            ]
          },
          "metadata": {},
          "execution_count": 120
        }
      ]
    },
    {
      "cell_type": "markdown",
      "source": [
        "###Item_Type"
      ],
      "metadata": {
        "id": "kTu-tgB3lgNw"
      }
    },
    {
      "cell_type": "code",
      "source": [
        "col_group('Item_Type','Item_Identifier')\n",
        "#Looks Good"
      ],
      "metadata": {
        "colab": {
          "base_uri": "https://localhost:8080/"
        },
        "id": "kPHDmAcclXfz",
        "outputId": "7e476178-fb2f-4c03-c95f-3b66e2d98db3"
      },
      "execution_count": 121,
      "outputs": [
        {
          "output_type": "execute_result",
          "data": {
            "text/plain": [
              "Item_Type\n",
              "Baking Goods             119\n",
              "Breads                    45\n",
              "Breakfast                 20\n",
              "Canned                   120\n",
              "Dairy                    125\n",
              "Frozen Foods             155\n",
              "Fruits and Vegetables    220\n",
              "Hard Drinks               40\n",
              "Health and Hygiene        95\n",
              "Household                170\n",
              "Meat                      80\n",
              "Others                    30\n",
              "Seafood                   10\n",
              "Snack Foods              220\n",
              "Soft Drinks               80\n",
              "Starchy Foods             30\n",
              "Name: Item_Identifier, dtype: int64"
            ]
          },
          "metadata": {},
          "execution_count": 121
        }
      ]
    },
    {
      "cell_type": "markdown",
      "source": [
        "Categories look good!!"
      ],
      "metadata": {
        "id": "q_l29n9ZmLfB"
      }
    },
    {
      "cell_type": "markdown",
      "source": [
        "###Outlet_Size"
      ],
      "metadata": {
        "id": "rR8v29gSn_Do"
      }
    },
    {
      "cell_type": "code",
      "source": [
        "col_group('Outlet_Size','Outlet_Identifier')"
      ],
      "metadata": {
        "colab": {
          "base_uri": "https://localhost:8080/"
        },
        "id": "awvibpT2oIdP",
        "outputId": "aa95f442-882a-411c-abfc-f65f241892aa"
      },
      "execution_count": 122,
      "outputs": [
        {
          "output_type": "execute_result",
          "data": {
            "text/plain": [
              "Outlet_Size\n",
              "High       1\n",
              "Medium     3\n",
              "Small      3\n",
              "missing    3\n",
              "Name: Outlet_Identifier, dtype: int64"
            ]
          },
          "metadata": {},
          "execution_count": 122
        }
      ]
    },
    {
      "cell_type": "markdown",
      "source": [
        "Leaving these catorgies. value of 'High' might be an error"
      ],
      "metadata": {
        "id": "j48hoIcrkJm-"
      }
    },
    {
      "cell_type": "markdown",
      "source": [
        "###Outlet_Location_Type "
      ],
      "metadata": {
        "id": "Ck-tIftfkfcq"
      }
    },
    {
      "cell_type": "code",
      "source": [
        "col_group('Outlet_Location_Type','Outlet_Identifier')\n",
        "#Looks good!!"
      ],
      "metadata": {
        "id": "hrgn6OguoM0Q",
        "colab": {
          "base_uri": "https://localhost:8080/"
        },
        "outputId": "8923384d-726a-4ea4-d60e-bfd0444d93e2"
      },
      "execution_count": 123,
      "outputs": [
        {
          "output_type": "execute_result",
          "data": {
            "text/plain": [
              "Outlet_Location_Type\n",
              "Tier 1    3\n",
              "Tier 2    3\n",
              "Tier 3    4\n",
              "Name: Outlet_Identifier, dtype: int64"
            ]
          },
          "metadata": {},
          "execution_count": 123
        }
      ]
    },
    {
      "cell_type": "markdown",
      "source": [
        "###Outlet_Type"
      ],
      "metadata": {
        "id": "XTWw_QTRlHC7"
      }
    },
    {
      "cell_type": "code",
      "source": [
        "col_group('Outlet_Type','Outlet_Identifier')\n",
        "#looks good!!"
      ],
      "metadata": {
        "colab": {
          "base_uri": "https://localhost:8080/"
        },
        "id": "B2aB5oZQlJo9",
        "outputId": "b21decfb-77d4-4b58-cce0-99149e5ebed0"
      },
      "execution_count": 124,
      "outputs": [
        {
          "output_type": "execute_result",
          "data": {
            "text/plain": [
              "Outlet_Type\n",
              "Grocery Store        2\n",
              "Supermarket Type1    6\n",
              "Supermarket Type2    1\n",
              "Supermarket Type3    1\n",
              "Name: Outlet_Identifier, dtype: int64"
            ]
          },
          "metadata": {},
          "execution_count": 124
        }
      ]
    },
    {
      "cell_type": "markdown",
      "source": [
        "###Outlet_Establishment_Year"
      ],
      "metadata": {
        "id": "IdBCSJP0lrYK"
      }
    },
    {
      "cell_type": "code",
      "source": [
        "col_group('Outlet_Establishment_Year','Outlet_Identifier')\n",
        "#looks good"
      ],
      "metadata": {
        "colab": {
          "base_uri": "https://localhost:8080/"
        },
        "id": "LN2FWsB3leqh",
        "outputId": "026175e3-fdbe-408b-f101-9e7866ee6eb3"
      },
      "execution_count": 125,
      "outputs": [
        {
          "output_type": "execute_result",
          "data": {
            "text/plain": [
              "Outlet_Establishment_Year\n",
              "1985    2\n",
              "1987    1\n",
              "1997    1\n",
              "1998    1\n",
              "1999    1\n",
              "2002    1\n",
              "2004    1\n",
              "2007    1\n",
              "2009    1\n",
              "Name: Outlet_Identifier, dtype: int64"
            ]
          },
          "metadata": {},
          "execution_count": 125
        }
      ]
    },
    {
      "cell_type": "markdown",
      "source": [
        "#8) For any numerical columns, obtain the summary statistics of each (min, max, mean)"
      ],
      "metadata": {
        "id": "LDDNSjpkl-x3"
      }
    },
    {
      "cell_type": "code",
      "source": [
        "df_sales.describe(exclude='object')"
      ],
      "metadata": {
        "colab": {
          "base_uri": "https://localhost:8080/",
          "height": 300
        },
        "id": "-qouxNEZpty1",
        "outputId": "59e19f3d-c41c-48aa-d0ac-aef662c917ae"
      },
      "execution_count": 126,
      "outputs": [
        {
          "output_type": "execute_result",
          "data": {
            "text/plain": [
              "       Item_Weight  Item_Visibility     Item_MRP  Outlet_Establishment_Year  \\\n",
              "count  8523.000000      8523.000000  8523.000000                8523.000000   \n",
              "mean     12.873327         0.066132   140.992782                1997.831867   \n",
              "std       4.646118         0.051598    62.275067                   8.371760   \n",
              "min       4.555000         0.000000    31.290000                1985.000000   \n",
              "25%       8.785000         0.026989    93.826500                1987.000000   \n",
              "50%      12.600000         0.053931   143.012800                1999.000000   \n",
              "75%      16.850000         0.094585   185.643700                2004.000000   \n",
              "max      21.350000         0.328391   266.888400                2009.000000   \n",
              "\n",
              "       Item_Outlet_Sales  Price_Per_Pound  \n",
              "count        8523.000000      8523.000000  \n",
              "mean         2181.288914        12.720885  \n",
              "std          1706.499616         8.025327  \n",
              "min            33.290000         1.686016  \n",
              "25%           834.247400         6.747596  \n",
              "50%          1794.331000        10.966775  \n",
              "75%          3101.296400        16.263237  \n",
              "max         13086.964800        50.775731  "
            ],
            "text/html": [
              "\n",
              "  <div id=\"df-edd8ed83-4dae-4e8e-98bb-4525e42369ea\">\n",
              "    <div class=\"colab-df-container\">\n",
              "      <div>\n",
              "<style scoped>\n",
              "    .dataframe tbody tr th:only-of-type {\n",
              "        vertical-align: middle;\n",
              "    }\n",
              "\n",
              "    .dataframe tbody tr th {\n",
              "        vertical-align: top;\n",
              "    }\n",
              "\n",
              "    .dataframe thead th {\n",
              "        text-align: right;\n",
              "    }\n",
              "</style>\n",
              "<table border=\"1\" class=\"dataframe\">\n",
              "  <thead>\n",
              "    <tr style=\"text-align: right;\">\n",
              "      <th></th>\n",
              "      <th>Item_Weight</th>\n",
              "      <th>Item_Visibility</th>\n",
              "      <th>Item_MRP</th>\n",
              "      <th>Outlet_Establishment_Year</th>\n",
              "      <th>Item_Outlet_Sales</th>\n",
              "      <th>Price_Per_Pound</th>\n",
              "    </tr>\n",
              "  </thead>\n",
              "  <tbody>\n",
              "    <tr>\n",
              "      <th>count</th>\n",
              "      <td>8523.000000</td>\n",
              "      <td>8523.000000</td>\n",
              "      <td>8523.000000</td>\n",
              "      <td>8523.000000</td>\n",
              "      <td>8523.000000</td>\n",
              "      <td>8523.000000</td>\n",
              "    </tr>\n",
              "    <tr>\n",
              "      <th>mean</th>\n",
              "      <td>12.873327</td>\n",
              "      <td>0.066132</td>\n",
              "      <td>140.992782</td>\n",
              "      <td>1997.831867</td>\n",
              "      <td>2181.288914</td>\n",
              "      <td>12.720885</td>\n",
              "    </tr>\n",
              "    <tr>\n",
              "      <th>std</th>\n",
              "      <td>4.646118</td>\n",
              "      <td>0.051598</td>\n",
              "      <td>62.275067</td>\n",
              "      <td>8.371760</td>\n",
              "      <td>1706.499616</td>\n",
              "      <td>8.025327</td>\n",
              "    </tr>\n",
              "    <tr>\n",
              "      <th>min</th>\n",
              "      <td>4.555000</td>\n",
              "      <td>0.000000</td>\n",
              "      <td>31.290000</td>\n",
              "      <td>1985.000000</td>\n",
              "      <td>33.290000</td>\n",
              "      <td>1.686016</td>\n",
              "    </tr>\n",
              "    <tr>\n",
              "      <th>25%</th>\n",
              "      <td>8.785000</td>\n",
              "      <td>0.026989</td>\n",
              "      <td>93.826500</td>\n",
              "      <td>1987.000000</td>\n",
              "      <td>834.247400</td>\n",
              "      <td>6.747596</td>\n",
              "    </tr>\n",
              "    <tr>\n",
              "      <th>50%</th>\n",
              "      <td>12.600000</td>\n",
              "      <td>0.053931</td>\n",
              "      <td>143.012800</td>\n",
              "      <td>1999.000000</td>\n",
              "      <td>1794.331000</td>\n",
              "      <td>10.966775</td>\n",
              "    </tr>\n",
              "    <tr>\n",
              "      <th>75%</th>\n",
              "      <td>16.850000</td>\n",
              "      <td>0.094585</td>\n",
              "      <td>185.643700</td>\n",
              "      <td>2004.000000</td>\n",
              "      <td>3101.296400</td>\n",
              "      <td>16.263237</td>\n",
              "    </tr>\n",
              "    <tr>\n",
              "      <th>max</th>\n",
              "      <td>21.350000</td>\n",
              "      <td>0.328391</td>\n",
              "      <td>266.888400</td>\n",
              "      <td>2009.000000</td>\n",
              "      <td>13086.964800</td>\n",
              "      <td>50.775731</td>\n",
              "    </tr>\n",
              "  </tbody>\n",
              "</table>\n",
              "</div>\n",
              "      <button class=\"colab-df-convert\" onclick=\"convertToInteractive('df-edd8ed83-4dae-4e8e-98bb-4525e42369ea')\"\n",
              "              title=\"Convert this dataframe to an interactive table.\"\n",
              "              style=\"display:none;\">\n",
              "        \n",
              "  <svg xmlns=\"http://www.w3.org/2000/svg\" height=\"24px\"viewBox=\"0 0 24 24\"\n",
              "       width=\"24px\">\n",
              "    <path d=\"M0 0h24v24H0V0z\" fill=\"none\"/>\n",
              "    <path d=\"M18.56 5.44l.94 2.06.94-2.06 2.06-.94-2.06-.94-.94-2.06-.94 2.06-2.06.94zm-11 1L8.5 8.5l.94-2.06 2.06-.94-2.06-.94L8.5 2.5l-.94 2.06-2.06.94zm10 10l.94 2.06.94-2.06 2.06-.94-2.06-.94-.94-2.06-.94 2.06-2.06.94z\"/><path d=\"M17.41 7.96l-1.37-1.37c-.4-.4-.92-.59-1.43-.59-.52 0-1.04.2-1.43.59L10.3 9.45l-7.72 7.72c-.78.78-.78 2.05 0 2.83L4 21.41c.39.39.9.59 1.41.59.51 0 1.02-.2 1.41-.59l7.78-7.78 2.81-2.81c.8-.78.8-2.07 0-2.86zM5.41 20L4 18.59l7.72-7.72 1.47 1.35L5.41 20z\"/>\n",
              "  </svg>\n",
              "      </button>\n",
              "      \n",
              "  <style>\n",
              "    .colab-df-container {\n",
              "      display:flex;\n",
              "      flex-wrap:wrap;\n",
              "      gap: 12px;\n",
              "    }\n",
              "\n",
              "    .colab-df-convert {\n",
              "      background-color: #E8F0FE;\n",
              "      border: none;\n",
              "      border-radius: 50%;\n",
              "      cursor: pointer;\n",
              "      display: none;\n",
              "      fill: #1967D2;\n",
              "      height: 32px;\n",
              "      padding: 0 0 0 0;\n",
              "      width: 32px;\n",
              "    }\n",
              "\n",
              "    .colab-df-convert:hover {\n",
              "      background-color: #E2EBFA;\n",
              "      box-shadow: 0px 1px 2px rgba(60, 64, 67, 0.3), 0px 1px 3px 1px rgba(60, 64, 67, 0.15);\n",
              "      fill: #174EA6;\n",
              "    }\n",
              "\n",
              "    [theme=dark] .colab-df-convert {\n",
              "      background-color: #3B4455;\n",
              "      fill: #D2E3FC;\n",
              "    }\n",
              "\n",
              "    [theme=dark] .colab-df-convert:hover {\n",
              "      background-color: #434B5C;\n",
              "      box-shadow: 0px 1px 3px 1px rgba(0, 0, 0, 0.15);\n",
              "      filter: drop-shadow(0px 1px 2px rgba(0, 0, 0, 0.3));\n",
              "      fill: #FFFFFF;\n",
              "    }\n",
              "  </style>\n",
              "\n",
              "      <script>\n",
              "        const buttonEl =\n",
              "          document.querySelector('#df-edd8ed83-4dae-4e8e-98bb-4525e42369ea button.colab-df-convert');\n",
              "        buttonEl.style.display =\n",
              "          google.colab.kernel.accessAllowed ? 'block' : 'none';\n",
              "\n",
              "        async function convertToInteractive(key) {\n",
              "          const element = document.querySelector('#df-edd8ed83-4dae-4e8e-98bb-4525e42369ea');\n",
              "          const dataTable =\n",
              "            await google.colab.kernel.invokeFunction('convertToInteractive',\n",
              "                                                     [key], {});\n",
              "          if (!dataTable) return;\n",
              "\n",
              "          const docLinkHtml = 'Like what you see? Visit the ' +\n",
              "            '<a target=\"_blank\" href=https://colab.research.google.com/notebooks/data_table.ipynb>data table notebook</a>'\n",
              "            + ' to learn more about interactive tables.';\n",
              "          element.innerHTML = '';\n",
              "          dataTable['output_type'] = 'display_data';\n",
              "          await google.colab.output.renderOutput(dataTable, element);\n",
              "          const docLink = document.createElement('div');\n",
              "          docLink.innerHTML = docLinkHtml;\n",
              "          element.appendChild(docLink);\n",
              "        }\n",
              "      </script>\n",
              "    </div>\n",
              "  </div>\n",
              "  "
            ]
          },
          "metadata": {},
          "execution_count": 126
        }
      ]
    },
    {
      "cell_type": "markdown",
      "source": [
        "# **Part 3**\n",
        "For Part3, your task is to complete any statistical analyses that might help you understand, explain, or model with your data. This must include at least one of each:\n",
        "\n",
        " * Histogram to view the distributions of various features in your dataset.\n",
        " * Boxplot to view statistical summaries of various features in your dataset.\n",
        " * Heatmap of the correlation between features."
      ],
      "metadata": {
        "id": "6C3QnTCPWCo7"
      }
    },
    {
      "cell_type": "markdown",
      "source": [
        "##Histograms"
      ],
      "metadata": {
        "id": "s4u4DtI4Sd_f"
      }
    },
    {
      "cell_type": "code",
      "source": [
        "plt.hist(df_sales['Item_Weight'],edgecolor='black');\n",
        "plt.xlabel('Item_Weight');\n",
        "plt.ylabel('Count');\n",
        "plt.title('Distribution of Item Weights');"
      ],
      "metadata": {
        "id": "veu_ZNaZrhTX",
        "colab": {
          "base_uri": "https://localhost:8080/",
          "height": 296
        },
        "outputId": "e4c63a1e-4906-45f8-cbfa-2cccb8bcf0d1"
      },
      "execution_count": 127,
      "outputs": [
        {
          "output_type": "display_data",
          "data": {
            "text/plain": [
              "<Figure size 432x288 with 1 Axes>"
            ],
            "image/png": "[encoded data removed]"
          },
          "metadata": {
            "needs_background": "light"
          }
        }
      ]
    },
    {
      "cell_type": "code",
      "source": [
        "plt.hist(df_sales.groupby(['Item_Identifier','Outlet_Identifier'])['Item_Outlet_Sales'].sum(),edgecolor='black',bins=30);\n",
        "plt.xlabel('Item_Sales');\n",
        "plt.ylabel('Count');\n",
        "plt.title('Distribution of total sales by Item and Outlet');"
      ],
      "metadata": {
        "colab": {
          "base_uri": "https://localhost:8080/",
          "height": 296
        },
        "id": "DfWmq--rc7Lv",
        "outputId": "8b746fd9-27c5-4d26-faf3-e187392a203b"
      },
      "execution_count": 128,
      "outputs": [
        {
          "output_type": "display_data",
          "data": {
            "text/plain": [
              "<Figure size 432x288 with 1 Axes>"
            ],
            "image/png": "[encoded data removed]"
          },
          "metadata": {
            "needs_background": "light"
          }
        }
      ]
    },
    {
      "cell_type": "markdown",
      "source": [
        "##Box Plots"
      ],
      "metadata": {
        "id": "X5qBA33USlgp"
      }
    },
    {
      "cell_type": "code",
      "source": [
        "plt.boxplot(df_sales['Item_Weight'],labels=['Item Weights']);"
      ],
      "metadata": {
        "colab": {
          "base_uri": "https://localhost:8080/",
          "height": 265
        },
        "id": "LguwWwDgPzz7",
        "outputId": "759e2fd8-c9d9-4aec-ecb0-4523835d4d7b"
      },
      "execution_count": 129,
      "outputs": [
        {
          "output_type": "display_data",
          "data": {
            "text/plain": [
              "<Figure size 432x288 with 1 Axes>"
            ],
            "image/png": "[encoded data removed]"
          },
          "metadata": {
            "needs_background": "light"
          }
        }
      ]
    },
    {
      "cell_type": "markdown",
      "source": [
        "* Appears to be no outliers for Item Weights "
      ],
      "metadata": {
        "id": "Ug3WTKcgTik0"
      }
    },
    {
      "cell_type": "code",
      "source": [
        "plt.boxplot(df_sales.groupby(['Outlet_Identifier'])['Item_Outlet_Sales'].sum(),labels=['Total Outlet Sales']);"
      ],
      "metadata": {
        "outputId": "83d2b829-18f6-4897-f99e-47ca0d272c27",
        "colab": {
          "base_uri": "https://localhost:8080/",
          "height": 276
        },
        "id": "kPtbP__zTyv3"
      },
      "execution_count": 130,
      "outputs": [
        {
          "output_type": "display_data",
          "data": {
            "text/plain": [
              "<Figure size 432x288 with 1 Axes>"
            ],
            "image/png": "[encoded data removed]"
          },
          "metadata": {
            "needs_background": "light"
          }
        }
      ]
    },
    {
      "cell_type": "markdown",
      "source": [
        "* Appears that the sales for one Outlet is skewing the mean to the higher end of the quartile"
      ],
      "metadata": {
        "id": "hZcq1RoFUaWQ"
      }
    },
    {
      "cell_type": "code",
      "source": [
        "plt.boxplot(df_sales.groupby(['Item_Identifier'])['Item_Outlet_Sales'].sum(),labels=['Total Sales by Item']);"
      ],
      "metadata": {
        "colab": {
          "base_uri": "https://localhost:8080/",
          "height": 265
        },
        "id": "O6-NRHrGUH6m",
        "outputId": "ebe27cfc-0ec3-4120-bb87-bc3090cb41da"
      },
      "execution_count": 131,
      "outputs": [
        {
          "output_type": "display_data",
          "data": {
            "text/plain": [
              "<Figure size 432x288 with 1 Axes>"
            ],
            "image/png": "[encoded data removed]"
          },
          "metadata": {
            "needs_background": "light"
          }
        }
      ]
    },
    {
      "cell_type": "markdown",
      "source": [
        "* This boxplot is expected form looking at the histogram above for total outlet sales by item. Outliers do not appear to skew the mean for the entire dataset"
      ],
      "metadata": {
        "id": "6TdKZqopVdXR"
      }
    },
    {
      "cell_type": "markdown",
      "source": [
        "##Heat Maps"
      ],
      "metadata": {
        "id": "7SYJq8wOV2-2"
      }
    },
    {
      "cell_type": "code",
      "source": [
        "corr = df_sales.corr()\n",
        "sns.heatmap(corr,annot=True);"
      ],
      "metadata": {
        "colab": {
          "base_uri": "https://localhost:8080/",
          "height": 392
        },
        "id": "-lVnGqapVD5o",
        "outputId": "8da4eb79-0ef2-4443-f485-dda53c73e786"
      },
      "execution_count": 132,
      "outputs": [
        {
          "output_type": "display_data",
          "data": {
            "text/plain": [
              "<Figure size 432x288 with 2 Axes>"
            ],
            "image/png": "[encoded data removed]"
          },
          "metadata": {
            "needs_background": "light"
          }
        }
      ]
    },
    {
      "cell_type": "markdown",
      "source": [
        "* surprised to see that there appeares to be a moderate negative correlation between the items weight and price per pound. Heavier the item the cheaper it is by the pound. Also appears that having a higher MRP (Price) for your Items has a moderate positive correlation to sales."
      ],
      "metadata": {
        "id": "FXlandWrX5bZ"
      }
    },
    {
      "cell_type": "markdown",
      "source": [
        "# Part 5\n",
        "* Please note: If you imputed missing values based on a calculation on the entire dataset (such as mean), you should now perform that step after the train test split using SimpleImputer.  "
      ],
      "metadata": {
        "id": "XZAw2WOIgH2z"
      }
    },
    {
      "cell_type": "code",
      "source": [
        "#CHECK FOR DUPLICATES\n",
        "df_ml.duplicated().sum()"
      ],
      "metadata": {
        "colab": {
          "base_uri": "https://localhost:8080/"
        },
        "id": "d4VvvqQTgKIJ",
        "outputId": "0dc0e90d-75fa-4c57-8549-87c635a63cd8"
      },
      "execution_count": 133,
      "outputs": [
        {
          "output_type": "execute_result",
          "data": {
            "text/plain": [
              "0"
            ]
          },
          "metadata": {},
          "execution_count": 133
        }
      ]
    },
    {
      "cell_type": "code",
      "source": [
        "#Check missing data\n",
        "display(df_ml.isna().sum()[df_ml.isna().sum()>0])\n",
        "df_ml[df_ml.isna().any(axis=1)].shape"
      ],
      "metadata": {
        "colab": {
          "base_uri": "https://localhost:8080/",
          "height": 86
        },
        "id": "62u1zeEDghB4",
        "outputId": "f3ca0cfe-ba96-42bb-9efc-e94153912ea5"
      },
      "execution_count": 134,
      "outputs": [
        {
          "output_type": "display_data",
          "data": {
            "text/plain": [
              "Item_Weight    1463\n",
              "Outlet_Size    2410\n",
              "dtype: int64"
            ]
          },
          "metadata": {}
        },
        {
          "output_type": "execute_result",
          "data": {
            "text/plain": [
              "(3873, 9)"
            ]
          },
          "metadata": {},
          "execution_count": 134
        }
      ]
    },
    {
      "cell_type": "code",
      "source": [
        "#review categorical data\n",
        "\n",
        "dtypes = df_ml.dtypes\n",
        "str_cols = dtypes[dtypes =='object'].index\n",
        "for col in str_cols:\n",
        "  print(f'-col = {col}')\n",
        "  print(df_ml[col].value_counts(dropna=False))\n",
        "  print('')\n",
        "  print('')"
      ],
      "metadata": {
        "colab": {
          "base_uri": "https://localhost:8080/"
        },
        "id": "H0ItQrn8hVS1",
        "outputId": "f2ed81a0-8b3c-4e9a-af29-f6f5fd7126dc"
      },
      "execution_count": 135,
      "outputs": [
        {
          "output_type": "stream",
          "name": "stdout",
          "text": [
            "-col = Item_Fat_Content\n",
            "Low Fat    5517\n",
            "Regular    3006\n",
            "Name: Item_Fat_Content, dtype: int64\n",
            "\n",
            "\n",
            "-col = Item_Type\n",
            "Fruits and Vegetables    1232\n",
            "Snack Foods              1200\n",
            "Household                 910\n",
            "Frozen Foods              856\n",
            "Dairy                     682\n",
            "Canned                    649\n",
            "Baking Goods              648\n",
            "Health and Hygiene        520\n",
            "Soft Drinks               445\n",
            "Meat                      425\n",
            "Breads                    251\n",
            "Hard Drinks               214\n",
            "Others                    169\n",
            "Starchy Foods             148\n",
            "Breakfast                 110\n",
            "Seafood                    64\n",
            "Name: Item_Type, dtype: int64\n",
            "\n",
            "\n",
            "-col = Outlet_Size\n",
            "Medium    2793\n",
            "NaN       2410\n",
            "Small     2388\n",
            "High       932\n",
            "Name: Outlet_Size, dtype: int64\n",
            "\n",
            "\n",
            "-col = Outlet_Location_Type\n",
            "Tier 3    3350\n",
            "Tier 2    2785\n",
            "Tier 1    2388\n",
            "Name: Outlet_Location_Type, dtype: int64\n",
            "\n",
            "\n",
            "-col = Outlet_Type\n",
            "Supermarket Type1    5577\n",
            "Grocery Store        1083\n",
            "Supermarket Type3     935\n",
            "Supermarket Type2     928\n",
            "Name: Outlet_Type, dtype: int64\n",
            "\n",
            "\n"
          ]
        }
      ]
    },
    {
      "cell_type": "markdown",
      "source": [
        "Identify the features (X) and target (y): Assign the \"Item_Outlet_Sales\" column as your target and the rest of the relevant variables as your features matrix. "
      ],
      "metadata": {
        "id": "FToH0tCWitSD"
      }
    },
    {
      "cell_type": "code",
      "source": [
        "y = df_ml['Item_Outlet_Sales']\n",
        "X = df_ml.drop(columns=['Item_Outlet_Sales'])"
      ],
      "metadata": {
        "id": "V9NC8rHaiEJx"
      },
      "execution_count": 136,
      "outputs": []
    },
    {
      "cell_type": "markdown",
      "source": [
        "Perform a train test split "
      ],
      "metadata": {
        "id": "hOX2XN1ni9a8"
      }
    },
    {
      "cell_type": "code",
      "source": [
        "X_train, X_test, y_train, y_test = train_test_split(X, y, random_state=42)"
      ],
      "metadata": {
        "id": "h8udI-jYi68o"
      },
      "execution_count": 137,
      "outputs": []
    },
    {
      "cell_type": "markdown",
      "source": [
        "# Create a preprocessing object to prepare the dataset for Machine Learning:\n",
        "\n"
      ],
      "metadata": {
        "id": "2wKXN7FSVZId"
      }
    },
    {
      "cell_type": "code",
      "source": [
        "#Column Selectors\n",
        "num_selector = make_column_selector(dtype_include='number')\n",
        "nom_selector = ['Item_Type','Item_Fat_Content']\n",
        "ord_selector = ['Outlet_Size','Outlet_Type','Outlet_Location_Type']\n",
        "#Imputers\n",
        "freq_imputer = SimpleImputer(strategy='most_frequent')\n",
        "mean_imputer = SimpleImputer(strategy='mean')\n",
        "# One-hot encoder\n",
        "ohe = OneHotEncoder(handle_unknown='ignore', sparse=False)\n",
        "nom_pipe = make_pipeline(freq_imputer, ohe)\n",
        "nom_tuple = (nom_pipe, nom_selector)\n",
        "scaler = StandardScaler()\n",
        "numeric_pipe = make_pipeline(mean_imputer, scaler)\n",
        "number_tuple = (numeric_pipe, num_selector)\n",
        "# Ordinal Encoder\n",
        "most_frequent_imputer = SimpleImputer(strategy='most_frequent')\n",
        "Outlet_Type_Labels = ['Grocery Store','Supermarket Type1','Supermarket Type2','Supermarket Type3']\n",
        "Outlet_Location_Type_Label = ['Tier 1','Tier 2','Tier 3']\n",
        "Outlet_Size_Label = ['Small','Medium','High']\n",
        "ordered_labels = [Outlet_Size_Label,Outlet_Type_Labels,Outlet_Location_Type_Label]\n",
        "ordinal= OrdinalEncoder(categories=ordered_labels,handle_unknown=\"use_encoded_value\",unknown_value=-1)\n",
        "ordinal_pipe = make_pipeline(most_frequent_imputer,ordinal)\n",
        "ordinal_tuple = (ordinal_pipe, ord_selector)"
      ],
      "metadata": {
        "id": "yGGcHQmfnGTQ"
      },
      "execution_count": 138,
      "outputs": []
    },
    {
      "cell_type": "code",
      "source": [
        "preprocessor = make_column_transformer(ordinal_tuple,nom_tuple,number_tuple,\n",
        "                                       remainder='drop')"
      ],
      "metadata": {
        "id": "U-8HwCPXJXC0"
      },
      "execution_count": 139,
      "outputs": []
    },
    {
      "cell_type": "code",
      "source": [
        "preprocessor"
      ],
      "metadata": {
        "colab": {
          "base_uri": "https://localhost:8080/",
          "height": 153
        },
        "id": "MlMAy1jgueA0",
        "outputId": "b24c1a67-4b8b-4d72-b05a-24671e8320c8"
      },
      "execution_count": 140,
      "outputs": [
        {
          "output_type": "execute_result",
          "data": {
            "text/plain": [
              "ColumnTransformer(transformers=[('pipeline-1',\n",
              "                                 Pipeline(steps=[('simpleimputer',\n",
              "                                                  SimpleImputer(strategy='most_frequent')),\n",
              "                                                 ('ordinalencoder',\n",
              "                                                  OrdinalEncoder(categories=[['Small',\n",
              "                                                                              'Medium',\n",
              "                                                                              'High'],\n",
              "                                                                             ['Grocery '\n",
              "                                                                              'Store',\n",
              "                                                                              'Supermarket '\n",
              "                                                                              'Type1',\n",
              "                                                                              'Supermarket '\n",
              "                                                                              'Type2',\n",
              "                                                                              'Supermarket '\n",
              "                                                                              'Type3'],\n",
              "                                                                             ['Tier '\n",
              "                                                                              '1',\n",
              "                                                                              'Tier '\n",
              "                                                                              '2',\n",
              "                                                                              'Tier '\n",
              "                                                                              '3']],\n",
              "                                                                 handle_unknown='use_encoded_value',\n",
              "                                                                 unknown_v...\n",
              "                                 Pipeline(steps=[('simpleimputer',\n",
              "                                                  SimpleImputer(strategy='most_frequent')),\n",
              "                                                 ('onehotencoder',\n",
              "                                                  OneHotEncoder(handle_unknown='ignore',\n",
              "                                                                sparse=False))]),\n",
              "                                 ['Item_Type', 'Item_Fat_Content']),\n",
              "                                ('pipeline-3',\n",
              "                                 Pipeline(steps=[('simpleimputer',\n",
              "                                                  SimpleImputer()),\n",
              "                                                 ('standardscaler',\n",
              "                                                  StandardScaler())]),\n",
              "                                 <sklearn.compose._column_transformer.make_column_selector object at 0x7f4382280f50>)])"
            ],
            "text/html": [
              "<style>#sk-95da51ff-5c6d-4e42-b618-e0b42f76b18d {color: black;background-color: white;}#sk-95da51ff-5c6d-4e42-b618-e0b42f76b18d pre{padding: 0;}#sk-95da51ff-5c6d-4e42-b618-e0b42f76b18d div.sk-toggleable {background-color: white;}#sk-95da51ff-5c6d-4e42-b618-e0b42f76b18d label.sk-toggleable__label {cursor: pointer;display: block;width: 100%;margin-bottom: 0;padding: 0.3em;box-sizing: border-box;text-align: center;}#sk-95da51ff-5c6d-4e42-b618-e0b42f76b18d label.sk-toggleable__label-arrow:before {content: \"▸\";float: left;margin-right: 0.25em;color: #696969;}#sk-95da51ff-5c6d-4e42-b618-e0b42f76b18d label.sk-toggleable__label-arrow:hover:before {color: black;}#sk-95da51ff-5c6d-4e42-b618-e0b42f76b18d div.sk-estimator:hover label.sk-toggleable__label-arrow:before {color: black;}#sk-95da51ff-5c6d-4e42-b618-e0b42f76b18d div.sk-toggleable__content {max-height: 0;max-width: 0;overflow: hidden;text-align: left;background-color: #f0f8ff;}#sk-95da51ff-5c6d-4e42-b618-e0b42f76b18d div.sk-toggleable__content pre {margin: 0.2em;color: black;border-radius: 0.25em;background-color: #f0f8ff;}#sk-95da51ff-5c6d-4e42-b618-e0b42f76b18d input.sk-toggleable__control:checked~div.sk-toggleable__content {max-height: 200px;max-width: 100%;overflow: auto;}#sk-95da51ff-5c6d-4e42-b618-e0b42f76b18d input.sk-toggleable__control:checked~label.sk-toggleable__label-arrow:before {content: \"▾\";}#sk-95da51ff-5c6d-4e42-b618-e0b42f76b18d div.sk-estimator input.sk-toggleable__control:checked~label.sk-toggleable__label {background-color: #d4ebff;}#sk-95da51ff-5c6d-4e42-b618-e0b42f76b18d div.sk-label input.sk-toggleable__control:checked~label.sk-toggleable__label {background-color: #d4ebff;}#sk-95da51ff-5c6d-4e42-b618-e0b42f76b18d input.sk-hidden--visually {border: 0;clip: rect(1px 1px 1px 1px);clip: rect(1px, 1px, 1px, 1px);height: 1px;margin: -1px;overflow: hidden;padding: 0;position: absolute;width: 1px;}#sk-95da51ff-5c6d-4e42-b618-e0b42f76b18d div.sk-estimator {font-family: monospace;background-color: #f0f8ff;border: 1px dotted black;border-radius: 0.25em;box-sizing: border-box;margin-bottom: 0.5em;}#sk-95da51ff-5c6d-4e42-b618-e0b42f76b18d div.sk-estimator:hover {background-color: #d4ebff;}#sk-95da51ff-5c6d-4e42-b618-e0b42f76b18d div.sk-parallel-item::after {content: \"\";width: 100%;border-bottom: 1px solid gray;flex-grow: 1;}#sk-95da51ff-5c6d-4e42-b618-e0b42f76b18d div.sk-label:hover label.sk-toggleable__label {background-color: #d4ebff;}#sk-95da51ff-5c6d-4e42-b618-e0b42f76b18d div.sk-serial::before {content: \"\";position: absolute;border-left: 1px solid gray;box-sizing: border-box;top: 2em;bottom: 0;left: 50%;}#sk-95da51ff-5c6d-4e42-b618-e0b42f76b18d div.sk-serial {display: flex;flex-direction: column;align-items: center;background-color: white;padding-right: 0.2em;padding-left: 0.2em;}#sk-95da51ff-5c6d-4e42-b618-e0b42f76b18d div.sk-item {z-index: 1;}#sk-95da51ff-5c6d-4e42-b618-e0b42f76b18d div.sk-parallel {display: flex;align-items: stretch;justify-content: center;background-color: white;}#sk-95da51ff-5c6d-4e42-b618-e0b42f76b18d div.sk-parallel::before {content: \"\";position: absolute;border-left: 1px solid gray;box-sizing: border-box;top: 2em;bottom: 0;left: 50%;}#sk-95da51ff-5c6d-4e42-b618-e0b42f76b18d div.sk-parallel-item {display: flex;flex-direction: column;position: relative;background-color: white;}#sk-95da51ff-5c6d-4e42-b618-e0b42f76b18d div.sk-parallel-item:first-child::after {align-self: flex-end;width: 50%;}#sk-95da51ff-5c6d-4e42-b618-e0b42f76b18d div.sk-parallel-item:last-child::after {align-self: flex-start;width: 50%;}#sk-95da51ff-5c6d-4e42-b618-e0b42f76b18d div.sk-parallel-item:only-child::after {width: 0;}#sk-95da51ff-5c6d-4e42-b618-e0b42f76b18d div.sk-dashed-wrapped {border: 1px dashed gray;margin: 0 0.4em 0.5em 0.4em;box-sizing: border-box;padding-bottom: 0.4em;background-color: white;position: relative;}#sk-95da51ff-5c6d-4e42-b618-e0b42f76b18d div.sk-label label {font-family: monospace;font-weight: bold;background-color: white;display: inline-block;line-height: 1.2em;}#sk-95da51ff-5c6d-4e42-b618-e0b42f76b18d div.sk-label-container {position: relative;z-index: 2;text-align: center;}#sk-95da51ff-5c6d-4e42-b618-e0b42f76b18d div.sk-container {/* jupyter's `normalize.less` sets `[hidden] { display: none; }` but bootstrap.min.css set `[hidden] { display: none !important; }` so we also need the `!important` here to be able to override the default hidden behavior on the sphinx rendered scikit-learn.org. See: https://github.com/scikit-learn/scikit-learn/issues/21755 */display: inline-block !important;position: relative;}#sk-95da51ff-5c6d-4e42-b618-e0b42f76b18d div.sk-text-repr-fallback {display: none;}</style><div id=\"sk-95da51ff-5c6d-4e42-b618-e0b42f76b18d\" class=\"sk-top-container\"><div class=\"sk-text-repr-fallback\"><pre>ColumnTransformer(transformers=[(&#x27;pipeline-1&#x27;,\n",
              "                                 Pipeline(steps=[(&#x27;simpleimputer&#x27;,\n",
              "                                                  SimpleImputer(strategy=&#x27;most_frequent&#x27;)),\n",
              "                                                 (&#x27;ordinalencoder&#x27;,\n",
              "                                                  OrdinalEncoder(categories=[[&#x27;Small&#x27;,\n",
              "                                                                              &#x27;Medium&#x27;,\n",
              "                                                                              &#x27;High&#x27;],\n",
              "                                                                             [&#x27;Grocery &#x27;\n",
              "                                                                              &#x27;Store&#x27;,\n",
              "                                                                              &#x27;Supermarket &#x27;\n",
              "                                                                              &#x27;Type1&#x27;,\n",
              "                                                                              &#x27;Supermarket &#x27;\n",
              "                                                                              &#x27;Type2&#x27;,\n",
              "                                                                              &#x27;Supermarket &#x27;\n",
              "                                                                              &#x27;Type3&#x27;],\n",
              "                                                                             [&#x27;Tier &#x27;\n",
              "                                                                              &#x27;1&#x27;,\n",
              "                                                                              &#x27;Tier &#x27;\n",
              "                                                                              &#x27;2&#x27;,\n",
              "                                                                              &#x27;Tier &#x27;\n",
              "                                                                              &#x27;3&#x27;]],\n",
              "                                                                 handle_unknown=&#x27;use_encoded_value&#x27;,\n",
              "                                                                 unknown_v...\n",
              "                                 Pipeline(steps=[(&#x27;simpleimputer&#x27;,\n",
              "                                                  SimpleImputer(strategy=&#x27;most_frequent&#x27;)),\n",
              "                                                 (&#x27;onehotencoder&#x27;,\n",
              "                                                  OneHotEncoder(handle_unknown=&#x27;ignore&#x27;,\n",
              "                                                                sparse=False))]),\n",
              "                                 [&#x27;Item_Type&#x27;, &#x27;Item_Fat_Content&#x27;]),\n",
              "                                (&#x27;pipeline-3&#x27;,\n",
              "                                 Pipeline(steps=[(&#x27;simpleimputer&#x27;,\n",
              "                                                  SimpleImputer()),\n",
              "                                                 (&#x27;standardscaler&#x27;,\n",
              "                                                  StandardScaler())]),\n",
              "                                 &lt;sklearn.compose._column_transformer.make_column_selector object at 0x7f4382280f50&gt;)])</pre><b>Please rerun this cell to show the HTML repr or trust the notebook.</b></div><div class=\"sk-container\" hidden><div class=\"sk-item sk-dashed-wrapped\"><div class=\"sk-label-container\"><div class=\"sk-label sk-toggleable\"><input class=\"sk-toggleable__control sk-hidden--visually\" id=\"2ccb2c1a-c441-439d-aba8-abc8706cf3db\" type=\"checkbox\" ><label for=\"2ccb2c1a-c441-439d-aba8-abc8706cf3db\" class=\"sk-toggleable__label sk-toggleable__label-arrow\">ColumnTransformer</label><div class=\"sk-toggleable__content\"><pre>ColumnTransformer(transformers=[(&#x27;pipeline-1&#x27;,\n",
              "                                 Pipeline(steps=[(&#x27;simpleimputer&#x27;,\n",
              "                                                  SimpleImputer(strategy=&#x27;most_frequent&#x27;)),\n",
              "                                                 (&#x27;ordinalencoder&#x27;,\n",
              "                                                  OrdinalEncoder(categories=[[&#x27;Small&#x27;,\n",
              "                                                                              &#x27;Medium&#x27;,\n",
              "                                                                              &#x27;High&#x27;],\n",
              "                                                                             [&#x27;Grocery &#x27;\n",
              "                                                                              &#x27;Store&#x27;,\n",
              "                                                                              &#x27;Supermarket &#x27;\n",
              "                                                                              &#x27;Type1&#x27;,\n",
              "                                                                              &#x27;Supermarket &#x27;\n",
              "                                                                              &#x27;Type2&#x27;,\n",
              "                                                                              &#x27;Supermarket &#x27;\n",
              "                                                                              &#x27;Type3&#x27;],\n",
              "                                                                             [&#x27;Tier &#x27;\n",
              "                                                                              &#x27;1&#x27;,\n",
              "                                                                              &#x27;Tier &#x27;\n",
              "                                                                              &#x27;2&#x27;,\n",
              "                                                                              &#x27;Tier &#x27;\n",
              "                                                                              &#x27;3&#x27;]],\n",
              "                                                                 handle_unknown=&#x27;use_encoded_value&#x27;,\n",
              "                                                                 unknown_v...\n",
              "                                 Pipeline(steps=[(&#x27;simpleimputer&#x27;,\n",
              "                                                  SimpleImputer(strategy=&#x27;most_frequent&#x27;)),\n",
              "                                                 (&#x27;onehotencoder&#x27;,\n",
              "                                                  OneHotEncoder(handle_unknown=&#x27;ignore&#x27;,\n",
              "                                                                sparse=False))]),\n",
              "                                 [&#x27;Item_Type&#x27;, &#x27;Item_Fat_Content&#x27;]),\n",
              "                                (&#x27;pipeline-3&#x27;,\n",
              "                                 Pipeline(steps=[(&#x27;simpleimputer&#x27;,\n",
              "                                                  SimpleImputer()),\n",
              "                                                 (&#x27;standardscaler&#x27;,\n",
              "                                                  StandardScaler())]),\n",
              "                                 &lt;sklearn.compose._column_transformer.make_column_selector object at 0x7f4382280f50&gt;)])</pre></div></div></div><div class=\"sk-parallel\"><div class=\"sk-parallel-item\"><div class=\"sk-item\"><div class=\"sk-label-container\"><div class=\"sk-label sk-toggleable\"><input class=\"sk-toggleable__control sk-hidden--visually\" id=\"ae5cb681-54d6-4428-8957-3feb2e5e44d2\" type=\"checkbox\" ><label for=\"ae5cb681-54d6-4428-8957-3feb2e5e44d2\" class=\"sk-toggleable__label sk-toggleable__label-arrow\">pipeline-1</label><div class=\"sk-toggleable__content\"><pre>[&#x27;Outlet_Size&#x27;, &#x27;Outlet_Type&#x27;, &#x27;Outlet_Location_Type&#x27;]</pre></div></div></div><div class=\"sk-serial\"><div class=\"sk-item\"><div class=\"sk-serial\"><div class=\"sk-item\"><div class=\"sk-estimator sk-toggleable\"><input class=\"sk-toggleable__control sk-hidden--visually\" id=\"7e6cd9e2-ac0c-441b-bc18-7c0037f790b2\" type=\"checkbox\" ><label for=\"7e6cd9e2-ac0c-441b-bc18-7c0037f790b2\" class=\"sk-toggleable__label sk-toggleable__label-arrow\">SimpleImputer</label><div class=\"sk-toggleable__content\"><pre>SimpleImputer(strategy=&#x27;most_frequent&#x27;)</pre></div></div></div><div class=\"sk-item\"><div class=\"sk-estimator sk-toggleable\"><input class=\"sk-toggleable__control sk-hidden--visually\" id=\"3ed27e72-2b13-474b-9236-da89c2cf00c3\" type=\"checkbox\" ><label for=\"3ed27e72-2b13-474b-9236-da89c2cf00c3\" class=\"sk-toggleable__label sk-toggleable__label-arrow\">OrdinalEncoder</label><div class=\"sk-toggleable__content\"><pre>OrdinalEncoder(categories=[[&#x27;Small&#x27;, &#x27;Medium&#x27;, &#x27;High&#x27;],\n",
              "                           [&#x27;Grocery Store&#x27;, &#x27;Supermarket Type1&#x27;,\n",
              "                            &#x27;Supermarket Type2&#x27;, &#x27;Supermarket Type3&#x27;],\n",
              "                           [&#x27;Tier 1&#x27;, &#x27;Tier 2&#x27;, &#x27;Tier 3&#x27;]],\n",
              "               handle_unknown=&#x27;use_encoded_value&#x27;, unknown_value=-1)</pre></div></div></div></div></div></div></div></div><div class=\"sk-parallel-item\"><div class=\"sk-item\"><div class=\"sk-label-container\"><div class=\"sk-label sk-toggleable\"><input class=\"sk-toggleable__control sk-hidden--visually\" id=\"ecbd2fd9-066e-43a4-96ca-910409fb0d30\" type=\"checkbox\" ><label for=\"ecbd2fd9-066e-43a4-96ca-910409fb0d30\" class=\"sk-toggleable__label sk-toggleable__label-arrow\">pipeline-2</label><div class=\"sk-toggleable__content\"><pre>[&#x27;Item_Type&#x27;, &#x27;Item_Fat_Content&#x27;]</pre></div></div></div><div class=\"sk-serial\"><div class=\"sk-item\"><div class=\"sk-serial\"><div class=\"sk-item\"><div class=\"sk-estimator sk-toggleable\"><input class=\"sk-toggleable__control sk-hidden--visually\" id=\"908af994-c54f-43bc-b463-789a27a14153\" type=\"checkbox\" ><label for=\"908af994-c54f-43bc-b463-789a27a14153\" class=\"sk-toggleable__label sk-toggleable__label-arrow\">SimpleImputer</label><div class=\"sk-toggleable__content\"><pre>SimpleImputer(strategy=&#x27;most_frequent&#x27;)</pre></div></div></div><div class=\"sk-item\"><div class=\"sk-estimator sk-toggleable\"><input class=\"sk-toggleable__control sk-hidden--visually\" id=\"381ba94d-4a13-4622-a13e-bb4904cd7e7b\" type=\"checkbox\" ><label for=\"381ba94d-4a13-4622-a13e-bb4904cd7e7b\" class=\"sk-toggleable__label sk-toggleable__label-arrow\">OneHotEncoder</label><div class=\"sk-toggleable__content\"><pre>OneHotEncoder(handle_unknown=&#x27;ignore&#x27;, sparse=False)</pre></div></div></div></div></div></div></div></div><div class=\"sk-parallel-item\"><div class=\"sk-item\"><div class=\"sk-label-container\"><div class=\"sk-label sk-toggleable\"><input class=\"sk-toggleable__control sk-hidden--visually\" id=\"448218f5-02cb-49a1-9395-0318c198b9e7\" type=\"checkbox\" ><label for=\"448218f5-02cb-49a1-9395-0318c198b9e7\" class=\"sk-toggleable__label sk-toggleable__label-arrow\">pipeline-3</label><div class=\"sk-toggleable__content\"><pre>&lt;sklearn.compose._column_transformer.make_column_selector object at 0x7f4382280f50&gt;</pre></div></div></div><div class=\"sk-serial\"><div class=\"sk-item\"><div class=\"sk-serial\"><div class=\"sk-item\"><div class=\"sk-estimator sk-toggleable\"><input class=\"sk-toggleable__control sk-hidden--visually\" id=\"70205431-6612-4ad4-8192-a1ed6dc0cd6f\" type=\"checkbox\" ><label for=\"70205431-6612-4ad4-8192-a1ed6dc0cd6f\" class=\"sk-toggleable__label sk-toggleable__label-arrow\">SimpleImputer</label><div class=\"sk-toggleable__content\"><pre>SimpleImputer()</pre></div></div></div><div class=\"sk-item\"><div class=\"sk-estimator sk-toggleable\"><input class=\"sk-toggleable__control sk-hidden--visually\" id=\"05f8c256-08ad-4ee1-93e0-3359773e63d7\" type=\"checkbox\" ><label for=\"05f8c256-08ad-4ee1-93e0-3359773e63d7\" class=\"sk-toggleable__label sk-toggleable__label-arrow\">StandardScaler</label><div class=\"sk-toggleable__content\"><pre>StandardScaler()</pre></div></div></div></div></div></div></div></div></div></div></div></div>"
            ]
          },
          "metadata": {},
          "execution_count": 140
        }
      ]
    },
    {
      "cell_type": "code",
      "source": [
        "preprocessor.fit(X_train)\n",
        "# transform train and test\n",
        "X_train_processed = preprocessor.transform(X_train)\n",
        "X_test_processed = preprocessor.transform(X_test)\n",
        "X_train_processed[0]"
      ],
      "metadata": {
        "colab": {
          "base_uri": "https://localhost:8080/"
        },
        "id": "2wr66gyZZncU",
        "outputId": "bd70df50-c83e-4115-b175-04d1399380ef"
      },
      "execution_count": 141,
      "outputs": [
        {
          "output_type": "execute_result",
          "data": {
            "text/plain": [
              "array([ 1.        ,  2.        ,  2.        ,  0.        ,  0.        ,\n",
              "        0.        ,  0.        ,  0.        ,  0.        ,  0.        ,\n",
              "        0.        ,  0.        ,  1.        ,  0.        ,  0.        ,\n",
              "        0.        ,  0.        ,  0.        ,  0.        ,  1.        ,\n",
              "        0.        ,  0.81724868, -0.71277507,  1.82810922])"
            ]
          },
          "metadata": {},
          "execution_count": 141
        }
      ]
    },
    {
      "cell_type": "markdown",
      "source": [
        "# Final Part 6"
      ],
      "metadata": {
        "id": "HtCfqwGHpSsd"
      }
    },
    {
      "cell_type": "code",
      "source": [
        "#function to take the true and predicted labels and print MAE, MSE, RMSE, and R2 metrics\n",
        "def evaluate_regression(y_true, y_pred):\n",
        "  \"\"\"Takes true target and predicted target and prints MAE, MSE, RMSE and R2\"\"\"\n",
        "  \n",
        "  mae = mean_absolute_error(y_true, y_pred)\n",
        "  mse = mean_squared_error(y_true, y_pred)\n",
        "  rmse = np.sqrt(mse)\n",
        "  r2 = r2_score(y_true, y_pred)\n",
        "\n",
        "  print(f'scores: \\nRMSE: {rmse:,.2f} \\nR2: {r2:.2f}')"
      ],
      "metadata": {
        "id": "5Xu-cnXYqeho"
      },
      "execution_count": 142,
      "outputs": []
    },
    {
      "cell_type": "markdown",
      "source": [
        "## 1) Your first task is to build a linear regression model to predict sales."
      ],
      "metadata": {
        "id": "YElFevIBpd_N"
      }
    },
    {
      "cell_type": "markdown",
      "source": [
        "* Build a linear regression model.\n",
        "* Evaluate the performance of your model based on r^2.\n",
        "* Evaluate the performance of your model based on rmse."
      ],
      "metadata": {
        "id": "UXSt-c-1wELD"
      }
    },
    {
      "cell_type": "code",
      "source": [
        "reg = LinearRegression()\n",
        "reg_pipe = make_pipeline(preprocessor, reg)\n",
        "reg_pipe.fit(X_train, y_train)"
      ],
      "metadata": {
        "id": "_zxsnERcHY0H",
        "outputId": "757cb5a6-72a4-4565-c182-803297b9d644",
        "colab": {
          "base_uri": "https://localhost:8080/",
          "height": 227
        }
      },
      "execution_count": 143,
      "outputs": [
        {
          "output_type": "execute_result",
          "data": {
            "text/plain": [
              "Pipeline(steps=[('columntransformer',\n",
              "                 ColumnTransformer(transformers=[('pipeline-1',\n",
              "                                                  Pipeline(steps=[('simpleimputer',\n",
              "                                                                   SimpleImputer(strategy='most_frequent')),\n",
              "                                                                  ('ordinalencoder',\n",
              "                                                                   OrdinalEncoder(categories=[['Small',\n",
              "                                                                                               'Medium',\n",
              "                                                                                               'High'],\n",
              "                                                                                              ['Grocery '\n",
              "                                                                                               'Store',\n",
              "                                                                                               'Supermarket '\n",
              "                                                                                               'Type1',\n",
              "                                                                                               'Supermarket '\n",
              "                                                                                               'Type2',\n",
              "                                                                                               'Supermarket '\n",
              "                                                                                               'Type3'],\n",
              "                                                                                              ['Tier '\n",
              "                                                                                               '1',\n",
              "                                                                                               'Tier '\n",
              "                                                                                               '2',\n",
              "                                                                                               'Tier '\n",
              "                                                                                               '3']],\n",
              "                                                                                  handle_...\n",
              "                                                                   SimpleImputer(strategy='most_frequent')),\n",
              "                                                                  ('onehotencoder',\n",
              "                                                                   OneHotEncoder(handle_unknown='ignore',\n",
              "                                                                                 sparse=False))]),\n",
              "                                                  ['Item_Type',\n",
              "                                                   'Item_Fat_Content']),\n",
              "                                                 ('pipeline-3',\n",
              "                                                  Pipeline(steps=[('simpleimputer',\n",
              "                                                                   SimpleImputer()),\n",
              "                                                                  ('standardscaler',\n",
              "                                                                   StandardScaler())]),\n",
              "                                                  <sklearn.compose._column_transformer.make_column_selector object at 0x7f4382280f50>)])),\n",
              "                ('linearregression', LinearRegression())])"
            ],
            "text/html": [
              "<style>#sk-a9b6a097-812a-4c29-8d12-f332d3e5335e {color: black;background-color: white;}#sk-a9b6a097-812a-4c29-8d12-f332d3e5335e pre{padding: 0;}#sk-a9b6a097-812a-4c29-8d12-f332d3e5335e div.sk-toggleable {background-color: white;}#sk-a9b6a097-812a-4c29-8d12-f332d3e5335e label.sk-toggleable__label {cursor: pointer;display: block;width: 100%;margin-bottom: 0;padding: 0.3em;box-sizing: border-box;text-align: center;}#sk-a9b6a097-812a-4c29-8d12-f332d3e5335e label.sk-toggleable__label-arrow:before {content: \"▸\";float: left;margin-right: 0.25em;color: #696969;}#sk-a9b6a097-812a-4c29-8d12-f332d3e5335e label.sk-toggleable__label-arrow:hover:before {color: black;}#sk-a9b6a097-812a-4c29-8d12-f332d3e5335e div.sk-estimator:hover label.sk-toggleable__label-arrow:before {color: black;}#sk-a9b6a097-812a-4c29-8d12-f332d3e5335e div.sk-toggleable__content {max-height: 0;max-width: 0;overflow: hidden;text-align: left;background-color: #f0f8ff;}#sk-a9b6a097-812a-4c29-8d12-f332d3e5335e div.sk-toggleable__content pre {margin: 0.2em;color: black;border-radius: 0.25em;background-color: #f0f8ff;}#sk-a9b6a097-812a-4c29-8d12-f332d3e5335e input.sk-toggleable__control:checked~div.sk-toggleable__content {max-height: 200px;max-width: 100%;overflow: auto;}#sk-a9b6a097-812a-4c29-8d12-f332d3e5335e input.sk-toggleable__control:checked~label.sk-toggleable__label-arrow:before {content: \"▾\";}#sk-a9b6a097-812a-4c29-8d12-f332d3e5335e div.sk-estimator input.sk-toggleable__control:checked~label.sk-toggleable__label {background-color: #d4ebff;}#sk-a9b6a097-812a-4c29-8d12-f332d3e5335e div.sk-label input.sk-toggleable__control:checked~label.sk-toggleable__label {background-color: #d4ebff;}#sk-a9b6a097-812a-4c29-8d12-f332d3e5335e input.sk-hidden--visually {border: 0;clip: rect(1px 1px 1px 1px);clip: rect(1px, 1px, 1px, 1px);height: 1px;margin: -1px;overflow: hidden;padding: 0;position: absolute;width: 1px;}#sk-a9b6a097-812a-4c29-8d12-f332d3e5335e div.sk-estimator {font-family: monospace;background-color: #f0f8ff;border: 1px dotted black;border-radius: 0.25em;box-sizing: border-box;margin-bottom: 0.5em;}#sk-a9b6a097-812a-4c29-8d12-f332d3e5335e div.sk-estimator:hover {background-color: #d4ebff;}#sk-a9b6a097-812a-4c29-8d12-f332d3e5335e div.sk-parallel-item::after {content: \"\";width: 100%;border-bottom: 1px solid gray;flex-grow: 1;}#sk-a9b6a097-812a-4c29-8d12-f332d3e5335e div.sk-label:hover label.sk-toggleable__label {background-color: #d4ebff;}#sk-a9b6a097-812a-4c29-8d12-f332d3e5335e div.sk-serial::before {content: \"\";position: absolute;border-left: 1px solid gray;box-sizing: border-box;top: 2em;bottom: 0;left: 50%;}#sk-a9b6a097-812a-4c29-8d12-f332d3e5335e div.sk-serial {display: flex;flex-direction: column;align-items: center;background-color: white;padding-right: 0.2em;padding-left: 0.2em;}#sk-a9b6a097-812a-4c29-8d12-f332d3e5335e div.sk-item {z-index: 1;}#sk-a9b6a097-812a-4c29-8d12-f332d3e5335e div.sk-parallel {display: flex;align-items: stretch;justify-content: center;background-color: white;}#sk-a9b6a097-812a-4c29-8d12-f332d3e5335e div.sk-parallel::before {content: \"\";position: absolute;border-left: 1px solid gray;box-sizing: border-box;top: 2em;bottom: 0;left: 50%;}#sk-a9b6a097-812a-4c29-8d12-f332d3e5335e div.sk-parallel-item {display: flex;flex-direction: column;position: relative;background-color: white;}#sk-a9b6a097-812a-4c29-8d12-f332d3e5335e div.sk-parallel-item:first-child::after {align-self: flex-end;width: 50%;}#sk-a9b6a097-812a-4c29-8d12-f332d3e5335e div.sk-parallel-item:last-child::after {align-self: flex-start;width: 50%;}#sk-a9b6a097-812a-4c29-8d12-f332d3e5335e div.sk-parallel-item:only-child::after {width: 0;}#sk-a9b6a097-812a-4c29-8d12-f332d3e5335e div.sk-dashed-wrapped {border: 1px dashed gray;margin: 0 0.4em 0.5em 0.4em;box-sizing: border-box;padding-bottom: 0.4em;background-color: white;position: relative;}#sk-a9b6a097-812a-4c29-8d12-f332d3e5335e div.sk-label label {font-family: monospace;font-weight: bold;background-color: white;display: inline-block;line-height: 1.2em;}#sk-a9b6a097-812a-4c29-8d12-f332d3e5335e div.sk-label-container {position: relative;z-index: 2;text-align: center;}#sk-a9b6a097-812a-4c29-8d12-f332d3e5335e div.sk-container {/* jupyter's `normalize.less` sets `[hidden] { display: none; }` but bootstrap.min.css set `[hidden] { display: none !important; }` so we also need the `!important` here to be able to override the default hidden behavior on the sphinx rendered scikit-learn.org. See: https://github.com/scikit-learn/scikit-learn/issues/21755 */display: inline-block !important;position: relative;}#sk-a9b6a097-812a-4c29-8d12-f332d3e5335e div.sk-text-repr-fallback {display: none;}</style><div id=\"sk-a9b6a097-812a-4c29-8d12-f332d3e5335e\" class=\"sk-top-container\"><div class=\"sk-text-repr-fallback\"><pre>Pipeline(steps=[(&#x27;columntransformer&#x27;,\n",
              "                 ColumnTransformer(transformers=[(&#x27;pipeline-1&#x27;,\n",
              "                                                  Pipeline(steps=[(&#x27;simpleimputer&#x27;,\n",
              "                                                                   SimpleImputer(strategy=&#x27;most_frequent&#x27;)),\n",
              "                                                                  (&#x27;ordinalencoder&#x27;,\n",
              "                                                                   OrdinalEncoder(categories=[[&#x27;Small&#x27;,\n",
              "                                                                                               &#x27;Medium&#x27;,\n",
              "                                                                                               &#x27;High&#x27;],\n",
              "                                                                                              [&#x27;Grocery &#x27;\n",
              "                                                                                               &#x27;Store&#x27;,\n",
              "                                                                                               &#x27;Supermarket &#x27;\n",
              "                                                                                               &#x27;Type1&#x27;,\n",
              "                                                                                               &#x27;Supermarket &#x27;\n",
              "                                                                                               &#x27;Type2&#x27;,\n",
              "                                                                                               &#x27;Supermarket &#x27;\n",
              "                                                                                               &#x27;Type3&#x27;],\n",
              "                                                                                              [&#x27;Tier &#x27;\n",
              "                                                                                               &#x27;1&#x27;,\n",
              "                                                                                               &#x27;Tier &#x27;\n",
              "                                                                                               &#x27;2&#x27;,\n",
              "                                                                                               &#x27;Tier &#x27;\n",
              "                                                                                               &#x27;3&#x27;]],\n",
              "                                                                                  handle_...\n",
              "                                                                   SimpleImputer(strategy=&#x27;most_frequent&#x27;)),\n",
              "                                                                  (&#x27;onehotencoder&#x27;,\n",
              "                                                                   OneHotEncoder(handle_unknown=&#x27;ignore&#x27;,\n",
              "                                                                                 sparse=False))]),\n",
              "                                                  [&#x27;Item_Type&#x27;,\n",
              "                                                   &#x27;Item_Fat_Content&#x27;]),\n",
              "                                                 (&#x27;pipeline-3&#x27;,\n",
              "                                                  Pipeline(steps=[(&#x27;simpleimputer&#x27;,\n",
              "                                                                   SimpleImputer()),\n",
              "                                                                  (&#x27;standardscaler&#x27;,\n",
              "                                                                   StandardScaler())]),\n",
              "                                                  &lt;sklearn.compose._column_transformer.make_column_selector object at 0x7f4382280f50&gt;)])),\n",
              "                (&#x27;linearregression&#x27;, LinearRegression())])</pre><b>Please rerun this cell to show the HTML repr or trust the notebook.</b></div><div class=\"sk-container\" hidden><div class=\"sk-item sk-dashed-wrapped\"><div class=\"sk-label-container\"><div class=\"sk-label sk-toggleable\"><input class=\"sk-toggleable__control sk-hidden--visually\" id=\"32de85a3-ad7b-4735-b3bc-1ba60105e192\" type=\"checkbox\" ><label for=\"32de85a3-ad7b-4735-b3bc-1ba60105e192\" class=\"sk-toggleable__label sk-toggleable__label-arrow\">Pipeline</label><div class=\"sk-toggleable__content\"><pre>Pipeline(steps=[(&#x27;columntransformer&#x27;,\n",
              "                 ColumnTransformer(transformers=[(&#x27;pipeline-1&#x27;,\n",
              "                                                  Pipeline(steps=[(&#x27;simpleimputer&#x27;,\n",
              "                                                                   SimpleImputer(strategy=&#x27;most_frequent&#x27;)),\n",
              "                                                                  (&#x27;ordinalencoder&#x27;,\n",
              "                                                                   OrdinalEncoder(categories=[[&#x27;Small&#x27;,\n",
              "                                                                                               &#x27;Medium&#x27;,\n",
              "                                                                                               &#x27;High&#x27;],\n",
              "                                                                                              [&#x27;Grocery &#x27;\n",
              "                                                                                               &#x27;Store&#x27;,\n",
              "                                                                                               &#x27;Supermarket &#x27;\n",
              "                                                                                               &#x27;Type1&#x27;,\n",
              "                                                                                               &#x27;Supermarket &#x27;\n",
              "                                                                                               &#x27;Type2&#x27;,\n",
              "                                                                                               &#x27;Supermarket &#x27;\n",
              "                                                                                               &#x27;Type3&#x27;],\n",
              "                                                                                              [&#x27;Tier &#x27;\n",
              "                                                                                               &#x27;1&#x27;,\n",
              "                                                                                               &#x27;Tier &#x27;\n",
              "                                                                                               &#x27;2&#x27;,\n",
              "                                                                                               &#x27;Tier &#x27;\n",
              "                                                                                               &#x27;3&#x27;]],\n",
              "                                                                                  handle_...\n",
              "                                                                   SimpleImputer(strategy=&#x27;most_frequent&#x27;)),\n",
              "                                                                  (&#x27;onehotencoder&#x27;,\n",
              "                                                                   OneHotEncoder(handle_unknown=&#x27;ignore&#x27;,\n",
              "                                                                                 sparse=False))]),\n",
              "                                                  [&#x27;Item_Type&#x27;,\n",
              "                                                   &#x27;Item_Fat_Content&#x27;]),\n",
              "                                                 (&#x27;pipeline-3&#x27;,\n",
              "                                                  Pipeline(steps=[(&#x27;simpleimputer&#x27;,\n",
              "                                                                   SimpleImputer()),\n",
              "                                                                  (&#x27;standardscaler&#x27;,\n",
              "                                                                   StandardScaler())]),\n",
              "                                                  &lt;sklearn.compose._column_transformer.make_column_selector object at 0x7f4382280f50&gt;)])),\n",
              "                (&#x27;linearregression&#x27;, LinearRegression())])</pre></div></div></div><div class=\"sk-serial\"><div class=\"sk-item sk-dashed-wrapped\"><div class=\"sk-label-container\"><div class=\"sk-label sk-toggleable\"><input class=\"sk-toggleable__control sk-hidden--visually\" id=\"4bf79913-9b3c-4750-ba81-19fa8362a858\" type=\"checkbox\" ><label for=\"4bf79913-9b3c-4750-ba81-19fa8362a858\" class=\"sk-toggleable__label sk-toggleable__label-arrow\">columntransformer: ColumnTransformer</label><div class=\"sk-toggleable__content\"><pre>ColumnTransformer(transformers=[(&#x27;pipeline-1&#x27;,\n",
              "                                 Pipeline(steps=[(&#x27;simpleimputer&#x27;,\n",
              "                                                  SimpleImputer(strategy=&#x27;most_frequent&#x27;)),\n",
              "                                                 (&#x27;ordinalencoder&#x27;,\n",
              "                                                  OrdinalEncoder(categories=[[&#x27;Small&#x27;,\n",
              "                                                                              &#x27;Medium&#x27;,\n",
              "                                                                              &#x27;High&#x27;],\n",
              "                                                                             [&#x27;Grocery &#x27;\n",
              "                                                                              &#x27;Store&#x27;,\n",
              "                                                                              &#x27;Supermarket &#x27;\n",
              "                                                                              &#x27;Type1&#x27;,\n",
              "                                                                              &#x27;Supermarket &#x27;\n",
              "                                                                              &#x27;Type2&#x27;,\n",
              "                                                                              &#x27;Supermarket &#x27;\n",
              "                                                                              &#x27;Type3&#x27;],\n",
              "                                                                             [&#x27;Tier &#x27;\n",
              "                                                                              &#x27;1&#x27;,\n",
              "                                                                              &#x27;Tier &#x27;\n",
              "                                                                              &#x27;2&#x27;,\n",
              "                                                                              &#x27;Tier &#x27;\n",
              "                                                                              &#x27;3&#x27;]],\n",
              "                                                                 handle_unknown=&#x27;use_encoded_value&#x27;,\n",
              "                                                                 unknown_v...\n",
              "                                 Pipeline(steps=[(&#x27;simpleimputer&#x27;,\n",
              "                                                  SimpleImputer(strategy=&#x27;most_frequent&#x27;)),\n",
              "                                                 (&#x27;onehotencoder&#x27;,\n",
              "                                                  OneHotEncoder(handle_unknown=&#x27;ignore&#x27;,\n",
              "                                                                sparse=False))]),\n",
              "                                 [&#x27;Item_Type&#x27;, &#x27;Item_Fat_Content&#x27;]),\n",
              "                                (&#x27;pipeline-3&#x27;,\n",
              "                                 Pipeline(steps=[(&#x27;simpleimputer&#x27;,\n",
              "                                                  SimpleImputer()),\n",
              "                                                 (&#x27;standardscaler&#x27;,\n",
              "                                                  StandardScaler())]),\n",
              "                                 &lt;sklearn.compose._column_transformer.make_column_selector object at 0x7f4382280f50&gt;)])</pre></div></div></div><div class=\"sk-parallel\"><div class=\"sk-parallel-item\"><div class=\"sk-item\"><div class=\"sk-label-container\"><div class=\"sk-label sk-toggleable\"><input class=\"sk-toggleable__control sk-hidden--visually\" id=\"a4016982-9e96-40f4-90fc-e761f3ae05b2\" type=\"checkbox\" ><label for=\"a4016982-9e96-40f4-90fc-e761f3ae05b2\" class=\"sk-toggleable__label sk-toggleable__label-arrow\">pipeline-1</label><div class=\"sk-toggleable__content\"><pre>[&#x27;Outlet_Size&#x27;, &#x27;Outlet_Type&#x27;, &#x27;Outlet_Location_Type&#x27;]</pre></div></div></div><div class=\"sk-serial\"><div class=\"sk-item\"><div class=\"sk-serial\"><div class=\"sk-item\"><div class=\"sk-estimator sk-toggleable\"><input class=\"sk-toggleable__control sk-hidden--visually\" id=\"61806af9-69b1-45dd-9ab4-a30f29b7d865\" type=\"checkbox\" ><label for=\"61806af9-69b1-45dd-9ab4-a30f29b7d865\" class=\"sk-toggleable__label sk-toggleable__label-arrow\">SimpleImputer</label><div class=\"sk-toggleable__content\"><pre>SimpleImputer(strategy=&#x27;most_frequent&#x27;)</pre></div></div></div><div class=\"sk-item\"><div class=\"sk-estimator sk-toggleable\"><input class=\"sk-toggleable__control sk-hidden--visually\" id=\"70a20772-39b8-4568-976f-536a821c1c8b\" type=\"checkbox\" ><label for=\"70a20772-39b8-4568-976f-536a821c1c8b\" class=\"sk-toggleable__label sk-toggleable__label-arrow\">OrdinalEncoder</label><div class=\"sk-toggleable__content\"><pre>OrdinalEncoder(categories=[[&#x27;Small&#x27;, &#x27;Medium&#x27;, &#x27;High&#x27;],\n",
              "                           [&#x27;Grocery Store&#x27;, &#x27;Supermarket Type1&#x27;,\n",
              "                            &#x27;Supermarket Type2&#x27;, &#x27;Supermarket Type3&#x27;],\n",
              "                           [&#x27;Tier 1&#x27;, &#x27;Tier 2&#x27;, &#x27;Tier 3&#x27;]],\n",
              "               handle_unknown=&#x27;use_encoded_value&#x27;, unknown_value=-1)</pre></div></div></div></div></div></div></div></div><div class=\"sk-parallel-item\"><div class=\"sk-item\"><div class=\"sk-label-container\"><div class=\"sk-label sk-toggleable\"><input class=\"sk-toggleable__control sk-hidden--visually\" id=\"d6156354-d51a-4411-998a-7d8f972f91cd\" type=\"checkbox\" ><label for=\"d6156354-d51a-4411-998a-7d8f972f91cd\" class=\"sk-toggleable__label sk-toggleable__label-arrow\">pipeline-2</label><div class=\"sk-toggleable__content\"><pre>[&#x27;Item_Type&#x27;, &#x27;Item_Fat_Content&#x27;]</pre></div></div></div><div class=\"sk-serial\"><div class=\"sk-item\"><div class=\"sk-serial\"><div class=\"sk-item\"><div class=\"sk-estimator sk-toggleable\"><input class=\"sk-toggleable__control sk-hidden--visually\" id=\"8ab95fd3-c1e7-43d5-a0a6-cdd6689f3044\" type=\"checkbox\" ><label for=\"8ab95fd3-c1e7-43d5-a0a6-cdd6689f3044\" class=\"sk-toggleable__label sk-toggleable__label-arrow\">SimpleImputer</label><div class=\"sk-toggleable__content\"><pre>SimpleImputer(strategy=&#x27;most_frequent&#x27;)</pre></div></div></div><div class=\"sk-item\"><div class=\"sk-estimator sk-toggleable\"><input class=\"sk-toggleable__control sk-hidden--visually\" id=\"bfb9814d-c5fd-419a-8c42-be36a343dd7f\" type=\"checkbox\" ><label for=\"bfb9814d-c5fd-419a-8c42-be36a343dd7f\" class=\"sk-toggleable__label sk-toggleable__label-arrow\">OneHotEncoder</label><div class=\"sk-toggleable__content\"><pre>OneHotEncoder(handle_unknown=&#x27;ignore&#x27;, sparse=False)</pre></div></div></div></div></div></div></div></div><div class=\"sk-parallel-item\"><div class=\"sk-item\"><div class=\"sk-label-container\"><div class=\"sk-label sk-toggleable\"><input class=\"sk-toggleable__control sk-hidden--visually\" id=\"2995d27a-f6e3-45c9-8f51-4f338a08ab9c\" type=\"checkbox\" ><label for=\"2995d27a-f6e3-45c9-8f51-4f338a08ab9c\" class=\"sk-toggleable__label sk-toggleable__label-arrow\">pipeline-3</label><div class=\"sk-toggleable__content\"><pre>&lt;sklearn.compose._column_transformer.make_column_selector object at 0x7f4382280f50&gt;</pre></div></div></div><div class=\"sk-serial\"><div class=\"sk-item\"><div class=\"sk-serial\"><div class=\"sk-item\"><div class=\"sk-estimator sk-toggleable\"><input class=\"sk-toggleable__control sk-hidden--visually\" id=\"a5b0307a-e741-4afd-8fdb-fb7ab4d0c656\" type=\"checkbox\" ><label for=\"a5b0307a-e741-4afd-8fdb-fb7ab4d0c656\" class=\"sk-toggleable__label sk-toggleable__label-arrow\">SimpleImputer</label><div class=\"sk-toggleable__content\"><pre>SimpleImputer()</pre></div></div></div><div class=\"sk-item\"><div class=\"sk-estimator sk-toggleable\"><input class=\"sk-toggleable__control sk-hidden--visually\" id=\"96d899fb-e0be-49d2-b647-587c45b91074\" type=\"checkbox\" ><label for=\"96d899fb-e0be-49d2-b647-587c45b91074\" class=\"sk-toggleable__label sk-toggleable__label-arrow\">StandardScaler</label><div class=\"sk-toggleable__content\"><pre>StandardScaler()</pre></div></div></div></div></div></div></div></div></div></div><div class=\"sk-item\"><div class=\"sk-estimator sk-toggleable\"><input class=\"sk-toggleable__control sk-hidden--visually\" id=\"2169b8bb-fd8e-4c33-be7b-460012ef8020\" type=\"checkbox\" ><label for=\"2169b8bb-fd8e-4c33-be7b-460012ef8020\" class=\"sk-toggleable__label sk-toggleable__label-arrow\">LinearRegression</label><div class=\"sk-toggleable__content\"><pre>LinearRegression()</pre></div></div></div></div></div></div></div>"
            ]
          },
          "metadata": {},
          "execution_count": 143
        }
      ]
    },
    {
      "cell_type": "code",
      "source": [
        "print('Train')\n",
        "evaluate_regression(y_train, reg_pipe.predict(X_train))\n",
        "print('\\nTest')\n",
        "evaluate_regression(y_test, reg_pipe.predict(X_test))"
      ],
      "metadata": {
        "id": "y8nzmjaVq-W-",
        "outputId": "25dfa5ad-0bcc-4a32-ad89-07cbd8210dff",
        "colab": {
          "base_uri": "https://localhost:8080/"
        }
      },
      "execution_count": 144,
      "outputs": [
        {
          "output_type": "stream",
          "name": "stdout",
          "text": [
            "Train\n",
            "scores: \n",
            "RMSE: 1,207.17 \n",
            "R2: 0.51\n",
            "\n",
            "Test\n",
            "scores: \n",
            "RMSE: 1,166.33 \n",
            "R2: 0.51\n"
          ]
        }
      ]
    },
    {
      "cell_type": "code",
      "source": [
        "plt.hist(y_test,edgecolor='black',label='Actual',bins=15)\n",
        "plt.hist( reg_pipe.predict(X_test),bins=15,edgecolor='black',alpha=.6,label='Prediction')\n",
        "plt.axvline(y_test.mean(), color = 'purple', linestyle = 'dashed', linewidth = 3)\n",
        "plt.axvline( reg_pipe.predict(X_test).mean(), color = 'r', linestyle = 'dashed', linewidth = 3,alpha=.6)\n",
        "plt.xlabel(\"$ Item Outlet Sales\")\n",
        "plt.ylabel(\"Items\")\n",
        "plt.title(\"Distribution of Sales by row\")\n",
        "plt.legend()\n",
        "plt.show()"
      ],
      "metadata": {
        "id": "8lb89Yi1rNxS",
        "outputId": "f937c085-731e-4f96-b895-3339f8185939",
        "colab": {
          "base_uri": "https://localhost:8080/",
          "height": 295
        }
      },
      "execution_count": 145,
      "outputs": [
        {
          "output_type": "display_data",
          "data": {
            "text/plain": [
              "<Figure size 432x288 with 1 Axes>"
            ],
            "image/png": "[encoded data removed]"
          },
          "metadata": {
            "needs_background": "light"
          }
        }
      ]
    },
    {
      "cell_type": "markdown",
      "source": [
        "## 2) Your second task is to build a regression tree model to predict sales."
      ],
      "metadata": {
        "id": "0T264Q_IvAvr"
      }
    },
    {
      "cell_type": "code",
      "source": [
        "#Instance\n",
        "dec_tree = DecisionTreeRegressor(random_state = 42)\n",
        "# put the model in a pipeline with the preprocessor\n",
        "dec_tree_pipe = make_pipeline(preprocessor, dec_tree)\n",
        "# fit the model on the training data\n",
        "dec_tree_pipe.fit(X_train, y_train)\n",
        "# evaluate the model on both the training and the testing data.\n",
        "print('Training')\n",
        "evaluate_regression(y_train, dec_tree_pipe.predict(X_train))\n",
        "print('Testing')\n",
        "evaluate_regression(y_test, dec_tree_pipe.predict(X_test))"
      ],
      "metadata": {
        "id": "RhiCPJEYtNhV",
        "outputId": "1aa01649-7ca4-4776-81c1-1f8be79d5ddd",
        "colab": {
          "base_uri": "https://localhost:8080/"
        }
      },
      "execution_count": 146,
      "outputs": [
        {
          "output_type": "stream",
          "name": "stdout",
          "text": [
            "Training\n",
            "scores: \n",
            "RMSE: 0.00 \n",
            "R2: 1.00\n",
            "Testing\n",
            "scores: \n",
            "RMSE: 1,563.67 \n",
            "R2: 0.11\n"
          ]
        }
      ]
    },
    {
      "cell_type": "markdown",
      "source": [
        "This model is Overfitted, very High Variance with 1 r2 for training and .11 r2 for test. Next will isolate best max depth for a better model"
      ],
      "metadata": {
        "id": "klbjNZgJzNPb"
      }
    },
    {
      "cell_type": "code",
      "source": [
        "depth = dec_tree.get_depth()\n",
        "depth"
      ],
      "metadata": {
        "id": "qTHhnuiWvAUf",
        "outputId": "36d0992a-fe4b-4f4f-e186-0be2940f1cbc",
        "colab": {
          "base_uri": "https://localhost:8080/"
        }
      },
      "execution_count": 147,
      "outputs": [
        {
          "output_type": "execute_result",
          "data": {
            "text/plain": [
              "42"
            ]
          },
          "metadata": {},
          "execution_count": 147
        }
      ]
    },
    {
      "cell_type": "code",
      "source": [
        "depths = range(1,depth)\n",
        "# create a dataframe to store train and test scores.\n",
        "scores = pd.DataFrame(columns=['Train','Test'], index=depths)\n",
        "# loop over the values in the depths range \n",
        "for depth in depths:\n",
        "  # fit a new model with the depth\n",
        "  dec = DecisionTreeRegressor(max_depth=depth)\n",
        "  # put model in a pipeline\n",
        "  dec_pipe = make_pipeline(preprocessor, dec)\n",
        "  # fit the model\n",
        "  dec_pipe.fit(X_train, y_train)\n",
        "  # create prediction arrays\n",
        "  train_pred = dec_pipe.predict(X_train)\n",
        "  test_pred = dec_pipe.predict(X_test)\n",
        "\n",
        "  # evaluate the model using R2 score\n",
        "  train_r2 = r2_score(y_train, train_pred)\n",
        "  test_r2 = r2_score(y_test, test_pred)\n",
        "  # store the scores in a dataframe\n",
        "  scores.loc[depth, 'Train'] = train_r2\n",
        "  scores.loc[depth, 'Test'] = test_r2\n"
      ],
      "metadata": {
        "id": "WbDzgCy1x2iJ"
      },
      "execution_count": 148,
      "outputs": []
    },
    {
      "cell_type": "code",
      "source": [
        "best_depth = scores.sort_values(by='Test', ascending=False)\n",
        "#print('The best test and train combo score is:')\n",
        "display(best_depth.head())\n",
        "print(f\"with max depth of {best_depth.index[0]}\")"
      ],
      "metadata": {
        "id": "UQR_1Fwv1-WH",
        "outputId": "ad8983c7-c900-4654-99a2-83542033ee85",
        "colab": {
          "base_uri": "https://localhost:8080/",
          "height": 223
        }
      },
      "execution_count": 149,
      "outputs": [
        {
          "output_type": "display_data",
          "data": {
            "text/plain": [
              "      Train      Test\n",
              "5   0.60394   0.59471\n",
              "4  0.582625  0.584005\n",
              "6  0.615072  0.582408\n",
              "7  0.626453  0.578869\n",
              "8  0.642724  0.565131"
            ],
            "text/html": [
              "\n",
              "  <div id=\"df-8e088219-6aac-4f6b-9ca0-fa3a4662a32d\">\n",
              "    <div class=\"colab-df-container\">\n",
              "      <div>\n",
              "<style scoped>\n",
              "    .dataframe tbody tr th:only-of-type {\n",
              "        vertical-align: middle;\n",
              "    }\n",
              "\n",
              "    .dataframe tbody tr th {\n",
              "        vertical-align: top;\n",
              "    }\n",
              "\n",
              "    .dataframe thead th {\n",
              "        text-align: right;\n",
              "    }\n",
              "</style>\n",
              "<table border=\"1\" class=\"dataframe\">\n",
              "  <thead>\n",
              "    <tr style=\"text-align: right;\">\n",
              "      <th></th>\n",
              "      <th>Train</th>\n",
              "      <th>Test</th>\n",
              "    </tr>\n",
              "  </thead>\n",
              "  <tbody>\n",
              "    <tr>\n",
              "      <th>5</th>\n",
              "      <td>0.60394</td>\n",
              "      <td>0.59471</td>\n",
              "    </tr>\n",
              "    <tr>\n",
              "      <th>4</th>\n",
              "      <td>0.582625</td>\n",
              "      <td>0.584005</td>\n",
              "    </tr>\n",
              "    <tr>\n",
              "      <th>6</th>\n",
              "      <td>0.615072</td>\n",
              "      <td>0.582408</td>\n",
              "    </tr>\n",
              "    <tr>\n",
              "      <th>7</th>\n",
              "      <td>0.626453</td>\n",
              "      <td>0.578869</td>\n",
              "    </tr>\n",
              "    <tr>\n",
              "      <th>8</th>\n",
              "      <td>0.642724</td>\n",
              "      <td>0.565131</td>\n",
              "    </tr>\n",
              "  </tbody>\n",
              "</table>\n",
              "</div>\n",
              "      <button class=\"colab-df-convert\" onclick=\"convertToInteractive('df-8e088219-6aac-4f6b-9ca0-fa3a4662a32d')\"\n",
              "              title=\"Convert this dataframe to an interactive table.\"\n",
              "              style=\"display:none;\">\n",
              "        \n",
              "  <svg xmlns=\"http://www.w3.org/2000/svg\" height=\"24px\"viewBox=\"0 0 24 24\"\n",
              "       width=\"24px\">\n",
              "    <path d=\"M0 0h24v24H0V0z\" fill=\"none\"/>\n",
              "    <path d=\"M18.56 5.44l.94 2.06.94-2.06 2.06-.94-2.06-.94-.94-2.06-.94 2.06-2.06.94zm-11 1L8.5 8.5l.94-2.06 2.06-.94-2.06-.94L8.5 2.5l-.94 2.06-2.06.94zm10 10l.94 2.06.94-2.06 2.06-.94-2.06-.94-.94-2.06-.94 2.06-2.06.94z\"/><path d=\"M17.41 7.96l-1.37-1.37c-.4-.4-.92-.59-1.43-.59-.52 0-1.04.2-1.43.59L10.3 9.45l-7.72 7.72c-.78.78-.78 2.05 0 2.83L4 21.41c.39.39.9.59 1.41.59.51 0 1.02-.2 1.41-.59l7.78-7.78 2.81-2.81c.8-.78.8-2.07 0-2.86zM5.41 20L4 18.59l7.72-7.72 1.47 1.35L5.41 20z\"/>\n",
              "  </svg>\n",
              "      </button>\n",
              "      \n",
              "  <style>\n",
              "    .colab-df-container {\n",
              "      display:flex;\n",
              "      flex-wrap:wrap;\n",
              "      gap: 12px;\n",
              "    }\n",
              "\n",
              "    .colab-df-convert {\n",
              "      background-color: #E8F0FE;\n",
              "      border: none;\n",
              "      border-radius: 50%;\n",
              "      cursor: pointer;\n",
              "      display: none;\n",
              "      fill: #1967D2;\n",
              "      height: 32px;\n",
              "      padding: 0 0 0 0;\n",
              "      width: 32px;\n",
              "    }\n",
              "\n",
              "    .colab-df-convert:hover {\n",
              "      background-color: #E2EBFA;\n",
              "      box-shadow: 0px 1px 2px rgba(60, 64, 67, 0.3), 0px 1px 3px 1px rgba(60, 64, 67, 0.15);\n",
              "      fill: #174EA6;\n",
              "    }\n",
              "\n",
              "    [theme=dark] .colab-df-convert {\n",
              "      background-color: #3B4455;\n",
              "      fill: #D2E3FC;\n",
              "    }\n",
              "\n",
              "    [theme=dark] .colab-df-convert:hover {\n",
              "      background-color: #434B5C;\n",
              "      box-shadow: 0px 1px 3px 1px rgba(0, 0, 0, 0.15);\n",
              "      filter: drop-shadow(0px 1px 2px rgba(0, 0, 0, 0.3));\n",
              "      fill: #FFFFFF;\n",
              "    }\n",
              "  </style>\n",
              "\n",
              "      <script>\n",
              "        const buttonEl =\n",
              "          document.querySelector('#df-8e088219-6aac-4f6b-9ca0-fa3a4662a32d button.colab-df-convert');\n",
              "        buttonEl.style.display =\n",
              "          google.colab.kernel.accessAllowed ? 'block' : 'none';\n",
              "\n",
              "        async function convertToInteractive(key) {\n",
              "          const element = document.querySelector('#df-8e088219-6aac-4f6b-9ca0-fa3a4662a32d');\n",
              "          const dataTable =\n",
              "            await google.colab.kernel.invokeFunction('convertToInteractive',\n",
              "                                                     [key], {});\n",
              "          if (!dataTable) return;\n",
              "\n",
              "          const docLinkHtml = 'Like what you see? Visit the ' +\n",
              "            '<a target=\"_blank\" href=https://colab.research.google.com/notebooks/data_table.ipynb>data table notebook</a>'\n",
              "            + ' to learn more about interactive tables.';\n",
              "          element.innerHTML = '';\n",
              "          dataTable['output_type'] = 'display_data';\n",
              "          await google.colab.output.renderOutput(dataTable, element);\n",
              "          const docLink = document.createElement('div');\n",
              "          docLink.innerHTML = docLinkHtml;\n",
              "          element.appendChild(docLink);\n",
              "        }\n",
              "      </script>\n",
              "    </div>\n",
              "  </div>\n",
              "  "
            ]
          },
          "metadata": {}
        },
        {
          "output_type": "stream",
          "name": "stdout",
          "text": [
            "with max depth of 5\n"
          ]
        }
      ]
    },
    {
      "cell_type": "code",
      "source": [
        "dec_tree = DecisionTreeRegressor(max_depth=5, random_state=42)\n",
        "dec_tree_pipe = make_pipeline(preprocessor, dec_tree)\n",
        "# fit the model on the training data\n",
        "dec_tree_pipe.fit(X_train, y_train)\n",
        "# evaluate the model on both the training and the testing data.\n",
        "print('Training')\n",
        "evaluate_regression(y_train, dec_tree_pipe.predict(X_train))\n",
        "print('Testing')\n",
        "evaluate_regression(y_test, dec_tree_pipe.predict(X_test))"
      ],
      "metadata": {
        "id": "YBkK6_mbz8aj",
        "outputId": "0588ca5f-d125-4d67-f6d3-97a978acef1f",
        "colab": {
          "base_uri": "https://localhost:8080/"
        }
      },
      "execution_count": 150,
      "outputs": [
        {
          "output_type": "stream",
          "name": "stdout",
          "text": [
            "Training\n",
            "scores: \n",
            "RMSE: 1,082.65 \n",
            "R2: 0.60\n",
            "Testing\n",
            "scores: \n",
            "RMSE: 1,057.44 \n",
            "R2: 0.59\n"
          ]
        }
      ]
    },
    {
      "cell_type": "markdown",
      "source": [
        "# 3) You now have tried 2 different models on your data set. You need to determine which model to implement.\n",
        "\n",
        "* Overall, which model do you recommend?\n",
        " * recommend using the decision tree over the linear regression\n",
        "* Justify your recommendation.\n",
        "  * Decision tree has a lower RMSE of $1,057 vs 1,166\n",
        "  * r2 of decision tree is .59 vs .51 "
      ],
      "metadata": {
        "id": "PEcDK8bnBU41"
      }
    },
    {
      "cell_type": "code",
      "source": [
        "plt.hist(y_test,edgecolor='black',label='Actual',bins=15)\n",
        "plt.hist(dec_tree_pipe.predict(X_test),bins=15,edgecolor='black',alpha=.6,label='Prediction')\n",
        "plt.axvline(y_test.mean(), color = 'purple', linestyle = 'dashed', linewidth = 3)\n",
        "plt.axvline( dec_tree_pipe.predict(X_test).mean(), color = 'r', linestyle = 'dashed', linewidth = 3,alpha=.6)\n",
        "plt.xlabel(\"$ Item Outlet Sales\")\n",
        "plt.ylabel(\"Items\")\n",
        "plt.title(\"Distribution of Sales by row\")\n",
        "plt.legend()\n",
        "plt.show()"
      ],
      "metadata": {
        "id": "tG9TlGUDCa7g",
        "outputId": "964dd3d5-4192-45b4-e9d9-1be5bc7a0716",
        "colab": {
          "base_uri": "https://localhost:8080/",
          "height": 295
        }
      },
      "execution_count": 151,
      "outputs": [
        {
          "output_type": "display_data",
          "data": {
            "text/plain": [
              "<Figure size 432x288 with 1 Axes>"
            ],
            "image/png": "[encoded data removed]"
          },
          "metadata": {
            "needs_background": "light"
          }
        }
      ]
    },
    {
      "cell_type": "code",
      "source": [
        "df_sales['Item_Outlet_Sales'].describe()"
      ],
      "metadata": {
        "id": "Hb6UCqJmCosz",
        "outputId": "0155e06a-48c7-4fb4-f008-4e4513634a42",
        "colab": {
          "base_uri": "https://localhost:8080/"
        }
      },
      "execution_count": 152,
      "outputs": [
        {
          "output_type": "execute_result",
          "data": {
            "text/plain": [
              "count     8523.000000\n",
              "mean      2181.288914\n",
              "std       1706.499616\n",
              "min         33.290000\n",
              "25%        834.247400\n",
              "50%       1794.331000\n",
              "75%       3101.296400\n",
              "max      13086.964800\n",
              "Name: Item_Outlet_Sales, dtype: float64"
            ]
          },
          "metadata": {},
          "execution_count": 152
        }
      ]
    },
    {
      "cell_type": "code",
      "source": [
        ""
      ],
      "metadata": {
        "id": "_kxd48vkESS6"
      },
      "execution_count": 152,
      "outputs": []
    }
  ]
}